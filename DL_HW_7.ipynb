{
  "nbformat": 4,
  "nbformat_minor": 0,
  "metadata": {
    "colab": {
      "name": "DL HW#7",
      "version": "0.3.2",
      "provenance": [],
      "collapsed_sections": [],
      "toc_visible": true
    },
    "kernelspec": {
      "name": "python3",
      "display_name": "Python 3"
    },
    "accelerator": "GPU"
  },
  "cells": [
    {
      "cell_type": "markdown",
      "metadata": {
        "id": "hbSy6kK177A8",
        "colab_type": "text"
      },
      "source": [
        "이번 과제는 완성하지 못해서 기존 keras로 짜여진 character based rnn 모델을 가져와서 테스트, 분석해봤습니다."
      ]
    },
    {
      "cell_type": "code",
      "metadata": {
        "id": "K072xi0CP9mG",
        "colab_type": "code",
        "colab": {
          "base_uri": "https://localhost:8080/",
          "height": 127
        },
        "outputId": "fe33b7db-1f6c-4528-e5f7-ea38d13e27f6"
      },
      "source": [
        "from google.colab import drive\n",
        "drive.mount('/content/drive')"
      ],
      "execution_count": 1,
      "outputs": [
        {
          "output_type": "stream",
          "text": [
            "Go to this URL in a browser: https://accounts.google.com/o/oauth2/auth?client_id=947318989803-6bn6qk8qdgf4n4g3pfee6491hc0brc4i.apps.googleusercontent.com&redirect_uri=urn%3Aietf%3Awg%3Aoauth%3A2.0%3Aoob&scope=email%20https%3A%2F%2Fwww.googleapis.com%2Fauth%2Fdocs.test%20https%3A%2F%2Fwww.googleapis.com%2Fauth%2Fdrive%20https%3A%2F%2Fwww.googleapis.com%2Fauth%2Fdrive.photos.readonly%20https%3A%2F%2Fwww.googleapis.com%2Fauth%2Fpeopleapi.readonly&response_type=code\n",
            "\n",
            "Enter your authorization code:\n",
            "··········\n",
            "Mounted at /content/drive\n"
          ],
          "name": "stdout"
        }
      ]
    },
    {
      "cell_type": "code",
      "metadata": {
        "id": "MIMV3DAgQ0ZD",
        "colab_type": "code",
        "colab": {
          "base_uri": "https://localhost:8080/",
          "height": 179
        },
        "outputId": "6e9f0c9c-36ca-4245-841e-6ca8f7309899"
      },
      "source": [
        "!ls \"/content/drive/My Drive\""
      ],
      "execution_count": 2,
      "outputs": [
        {
          "output_type": "stream",
          "text": [
            "'3D Sketch (3).pptx'\t    Object_detection_webcam_fix.py\n",
            " arpen.apk\t\t   '세미나 ppt 책자.zip'\n",
            "'Colab Notebooks'\t    rhyme.txt\n",
            " Desktop.zip\t\t    source.txt\n",
            " hand_finger_detect.apk     testset_png.zip\n",
            " handrecognition_model.h5   testtmp.zip\n",
            " HW1.docx\t\t   'Vuforia-Brush-master-fix(client)_final.zip'\n",
            " leap_database.zip\t   '앵커 기반 드론 측위에 대한 부품 명세서.xlsx'\n",
            " object_detection.py.zip   '특허 관련.zip'\n"
          ],
          "name": "stdout"
        }
      ]
    },
    {
      "cell_type": "code",
      "metadata": {
        "id": "c2_eFmncbr5P",
        "colab_type": "code",
        "colab": {
          "base_uri": "https://localhost:8080/",
          "height": 1000
        },
        "outputId": "74f63d9e-3f47-4b08-db22-57e7f05a6379"
      },
      "source": [
        "def load_doc(filename):\n",
        "\t# open the file as read only\n",
        "\tfile = open(filename, 'r')\n",
        "\t# read all text\n",
        "\ttext = file.read()\n",
        "\t# close the file\n",
        "\tfile.close()\n",
        "\treturn text\n",
        " \n",
        "# save tokens to file, one dialog per line\n",
        "def save_doc(lines, filename):\n",
        "\tdata = '\\n'.join(lines)\n",
        "\tfile = open(filename, 'w')\n",
        "\tfile.write(data)\n",
        "\tfile.close()\n",
        " \n",
        "# load text\n",
        "raw_text = load_doc('/content/drive/My Drive/source.txt')\n",
        "print(raw_text)    # 소스코드의 원본\n",
        " \n",
        "# clean\n",
        "tokens = raw_text.split()\n",
        "raw_text = ' '.join(tokens)\n",
        " \n",
        "# organize into sequences of characters\n",
        "length = 10\n",
        "sequences = list()\n",
        "for i in range(length, len(raw_text)):   # 시퀀스들의 전체 갯수는 전체 텍스트 길이 - 하나의 시퀀스 길이가 됩니다.\n",
        "\t# select sequence of tokens\n",
        "\tseq = raw_text[i-length:i+1]           # 개별 시퀀스 각각을 좌에서 우로 sweeping 하며 순차적으로 sequences에 추가합니다.\n",
        "\t# store\n",
        "\tsequences.append(seq)\n",
        "print('Total Sequences: %d' % len(sequences))\n",
        " \n",
        "# save sequences to file\n",
        "out_filename = 'char_sequences.txt'\n",
        "save_doc(sequences, out_filename)    # 시퀀스들의 리스트를 저장해둡니다."
      ],
      "execution_count": 3,
      "outputs": [
        {
          "output_type": "stream",
          "text": [
            "void MainWindow::ConvertFromPFILE(const string& fileIn,\n",
            "    const string& clientId,\n",
            "    const string& redirectUrl,\n",
            "    const string& clientEmail) \n",
            "{\n",
            "// add trusted certificates using HttpHelpers of RMS and Auth SDKs\n",
            "addCertificates();\n",
            "\n",
            "// create shared in/out streams\n",
            "auto inFile = make_shared<ifstream>(\n",
            "fileIn, ios_base::in | ios_base::binary);\n",
            "\n",
            "if (!inFile->is_open()) {\n",
            " AddLog(\"ERROR: Failed to open \", fileIn.c_str());\n",
            "return;\n",
            "}\n",
            "\n",
            "string fileOut;\n",
            "\n",
            "// generate output filename\n",
            "auto pos = fileIn.find_last_of('.');\n",
            "\n",
            "if (pos != string::npos) {\n",
            " fileOut = fileIn.substr(0, pos);\n",
            "}\n",
            "\n",
            " // create streams\n",
            "auto outFile = make_shared<fstream>(\n",
            "fileOut, ios_base::in | ios_base::out | ios_base::trunc | ios_base::binary);\n",
            "\n",
            "if (!outFile->is_open()) {\n",
            " AddLog(\"ERROR: Failed to open \", fileOut.c_str());\n",
            " return;\n",
            "  }\n",
            "\n",
            "try\n",
            "{\n",
            "// create authentication context\n",
            "AuthCallback auth(clientId, redirectUrl);\n",
            "\n",
            "// process conversion\n",
            "auto pfs = PFileConverter::ConvertFromPFile(\n",
            "  clientEmail,\n",
            "  inFile,\n",
            "  outFile,\n",
            "  auth,\n",
            "  this->consent);\n",
            "\n",
            "AddLog(\"Successfully converted to \", fileOut.c_str());\n",
            "}\n",
            "catch (const rmsauth::Exception& e)\n",
            "{\n",
            "AddLog(\"ERROR: \", e.error().c_str());\n",
            "}\n",
            "catch (const rmscore::exceptions::RMSException& e) {\n",
            "AddLog(\"ERROR: \", e.what());\n",
            "}\n",
            "inFile->close();\n",
            "outFile->close();\n",
            "}\n",
            "Total Sequences: 1227\n"
          ],
          "name": "stdout"
        }
      ]
    },
    {
      "cell_type": "code",
      "metadata": {
        "id": "KvGPNO1O9sYV",
        "colab_type": "code",
        "colab": {
          "base_uri": "https://localhost:8080/",
          "height": 55
        },
        "outputId": "364756d0-f1b9-4340-a088-2e14486ebdb8"
      },
      "source": [
        "print(sequences)"
      ],
      "execution_count": 4,
      "outputs": [
        {
          "output_type": "stream",
          "text": [
            "['void MainWi', 'oid MainWin', 'id MainWind', 'd MainWindo', ' MainWindow', 'MainWindow:', 'ainWindow::', 'inWindow::C', 'nWindow::Co', 'Window::Con', 'indow::Conv', 'ndow::Conve', 'dow::Conver', 'ow::Convert', 'w::ConvertF', '::ConvertFr', ':ConvertFro', 'ConvertFrom', 'onvertFromP', 'nvertFromPF', 'vertFromPFI', 'ertFromPFIL', 'rtFromPFILE', 'tFromPFILE(', 'FromPFILE(c', 'romPFILE(co', 'omPFILE(con', 'mPFILE(cons', 'PFILE(const', 'FILE(const ', 'ILE(const s', 'LE(const st', 'E(const str', '(const stri', 'const strin', 'onst string', 'nst string&', 'st string& ', 't string& f', ' string& fi', 'string& fil', 'tring& file', 'ring& fileI', 'ing& fileIn', 'ng& fileIn,', 'g& fileIn, ', '& fileIn, c', ' fileIn, co', 'fileIn, con', 'ileIn, cons', 'leIn, const', 'eIn, const ', 'In, const s', 'n, const st', ', const str', ' const stri', 'const strin', 'onst string', 'nst string&', 'st string& ', 't string& c', ' string& cl', 'string& cli', 'tring& clie', 'ring& clien', 'ing& client', 'ng& clientI', 'g& clientId', '& clientId,', ' clientId, ', 'clientId, c', 'lientId, co', 'ientId, con', 'entId, cons', 'ntId, const', 'tId, const ', 'Id, const s', 'd, const st', ', const str', ' const stri', 'const strin', 'onst string', 'nst string&', 'st string& ', 't string& r', ' string& re', 'string& red', 'tring& redi', 'ring& redir', 'ing& redire', 'ng& redirec', 'g& redirect', '& redirectU', ' redirectUr', 'redirectUrl', 'edirectUrl,', 'directUrl, ', 'irectUrl, c', 'rectUrl, co', 'ectUrl, con', 'ctUrl, cons', 'tUrl, const', 'Url, const ', 'rl, const s', 'l, const st', ', const str', ' const stri', 'const strin', 'onst string', 'nst string&', 'st string& ', 't string& c', ' string& cl', 'string& cli', 'tring& clie', 'ring& clien', 'ing& client', 'ng& clientE', 'g& clientEm', '& clientEma', ' clientEmai', 'clientEmail', 'lientEmail)', 'ientEmail) ', 'entEmail) {', 'ntEmail) { ', 'tEmail) { /', 'Email) { //', 'mail) { // ', 'ail) { // a', 'il) { // ad', 'l) { // add', ') { // add ', ' { // add t', '{ // add tr', ' // add tru', '// add trus', '/ add trust', ' add truste', 'add trusted', 'dd trusted ', 'd trusted c', ' trusted ce', 'trusted cer', 'rusted cert', 'usted certi', 'sted certif', 'ted certifi', 'ed certific', 'd certifica', ' certificat', 'certificate', 'ertificates', 'rtificates ', 'tificates u', 'ificates us', 'ficates usi', 'icates usin', 'cates using', 'ates using ', 'tes using H', 'es using Ht', 's using Htt', ' using Http', 'using HttpH', 'sing HttpHe', 'ing HttpHel', 'ng HttpHelp', 'g HttpHelpe', ' HttpHelper', 'HttpHelpers', 'ttpHelpers ', 'tpHelpers o', 'pHelpers of', 'Helpers of ', 'elpers of R', 'lpers of RM', 'pers of RMS', 'ers of RMS ', 'rs of RMS a', 's of RMS an', ' of RMS and', 'of RMS and ', 'f RMS and A', ' RMS and Au', 'RMS and Aut', 'MS and Auth', 'S and Auth ', ' and Auth S', 'and Auth SD', 'nd Auth SDK', 'd Auth SDKs', ' Auth SDKs ', 'Auth SDKs a', 'uth SDKs ad', 'th SDKs add', 'h SDKs addC', ' SDKs addCe', 'SDKs addCer', 'DKs addCert', 'Ks addCerti', 's addCertif', ' addCertifi', 'addCertific', 'ddCertifica', 'dCertificat', 'Certificate', 'ertificates', 'rtificates(', 'tificates()', 'ificates();', 'ficates(); ', 'icates(); /', 'cates(); //', 'ates(); // ', 'tes(); // c', 'es(); // cr', 's(); // cre', '(); // crea', '); // creat', '; // create', ' // create ', '// create s', '/ create sh', ' create sha', 'create shar', 'reate share', 'eate shared', 'ate shared ', 'te shared i', 'e shared in', ' shared in/', 'shared in/o', 'hared in/ou', 'ared in/out', 'red in/out ', 'ed in/out s', 'd in/out st', ' in/out str', 'in/out stre', 'n/out strea', '/out stream', 'out streams', 'ut streams ', 't streams a', ' streams au', 'streams aut', 'treams auto', 'reams auto ', 'eams auto i', 'ams auto in', 'ms auto inF', 's auto inFi', ' auto inFil', 'auto inFile', 'uto inFile ', 'to inFile =', 'o inFile = ', ' inFile = m', 'inFile = ma', 'nFile = mak', 'File = make', 'ile = make_', 'le = make_s', 'e = make_sh', ' = make_sha', '= make_shar', ' make_share', 'make_shared', 'ake_shared<', 'ke_shared<i', 'e_shared<if', '_shared<ifs', 'shared<ifst', 'hared<ifstr', 'ared<ifstre', 'red<ifstrea', 'ed<ifstream', 'd<ifstream>', '<ifstream>(', 'ifstream>( ', 'fstream>( f', 'stream>( fi', 'tream>( fil', 'ream>( file', 'eam>( fileI', 'am>( fileIn', 'm>( fileIn,', '>( fileIn, ', '( fileIn, i', ' fileIn, io', 'fileIn, ios', 'ileIn, ios_', 'leIn, ios_b', 'eIn, ios_ba', 'In, ios_bas', 'n, ios_base', ', ios_base:', ' ios_base::', 'ios_base::i', 'os_base::in', 's_base::in ', '_base::in |', 'base::in | ', 'ase::in | i', 'se::in | io', 'e::in | ios', '::in | ios_', ':in | ios_b', 'in | ios_ba', 'n | ios_bas', ' | ios_base', '| ios_base:', ' ios_base::', 'ios_base::b', 'os_base::bi', 's_base::bin', '_base::bina', 'base::binar', 'ase::binary', 'se::binary)', 'e::binary);', '::binary); ', ':binary); i', 'binary); if', 'inary); if ', 'nary); if (', 'ary); if (!', 'ry); if (!i', 'y); if (!in', '); if (!inF', '; if (!inFi', ' if (!inFil', 'if (!inFile', 'f (!inFile-', ' (!inFile->', '(!inFile->i', '!inFile->is', 'inFile->is_', 'nFile->is_o', 'File->is_op', 'ile->is_ope', 'le->is_open', 'e->is_open(', '->is_open()', '>is_open())', 'is_open()) ', 's_open()) {', '_open()) { ', 'open()) { A', 'pen()) { Ad', 'en()) { Add', 'n()) { AddL', '()) { AddLo', ')) { AddLog', ') { AddLog(', ' { AddLog(\"', '{ AddLog(\"E', ' AddLog(\"ER', 'AddLog(\"ERR', 'ddLog(\"ERRO', 'dLog(\"ERROR', 'Log(\"ERROR:', 'og(\"ERROR: ', 'g(\"ERROR: F', '(\"ERROR: Fa', '\"ERROR: Fai', 'ERROR: Fail', 'RROR: Faile', 'ROR: Failed', 'OR: Failed ', 'R: Failed t', ': Failed to', ' Failed to ', 'Failed to o', 'ailed to op', 'iled to ope', 'led to open', 'ed to open ', 'd to open \"', ' to open \",', 'to open \", ', 'o open \", f', ' open \", fi', 'open \", fil', 'pen \", file', 'en \", fileI', 'n \", fileIn', ' \", fileIn.', '\", fileIn.c', ', fileIn.c_', ' fileIn.c_s', 'fileIn.c_st', 'ileIn.c_str', 'leIn.c_str(', 'eIn.c_str()', 'In.c_str())', 'n.c_str());', '.c_str()); ', 'c_str()); r', '_str()); re', 'str()); ret', 'tr()); retu', 'r()); retur', '()); return', ')); return;', '); return; ', '; return; }', ' return; } ', 'return; } s', 'eturn; } st', 'turn; } str', 'urn; } stri', 'rn; } strin', 'n; } string', '; } string ', ' } string f', '} string fi', ' string fil', 'string file', 'tring fileO', 'ring fileOu', 'ing fileOut', 'ng fileOut;', 'g fileOut; ', ' fileOut; /', 'fileOut; //', 'ileOut; // ', 'leOut; // g', 'eOut; // ge', 'Out; // gen', 'ut; // gene', 't; // gener', '; // genera', ' // generat', '// generate', '/ generate ', ' generate o', 'generate ou', 'enerate out', 'nerate outp', 'erate outpu', 'rate output', 'ate output ', 'te output f', 'e output fi', ' output fil', 'output file', 'utput filen', 'tput filena', 'put filenam', 'ut filename', 't filename ', ' filename a', 'filename au', 'ilename aut', 'lename auto', 'ename auto ', 'name auto p', 'ame auto po', 'me auto pos', 'e auto pos ', ' auto pos =', 'auto pos = ', 'uto pos = f', 'to pos = fi', 'o pos = fil', ' pos = file', 'pos = fileI', 'os = fileIn', 's = fileIn.', ' = fileIn.f', '= fileIn.fi', ' fileIn.fin', 'fileIn.find', 'ileIn.find_', 'leIn.find_l', 'eIn.find_la', 'In.find_las', 'n.find_last', '.find_last_', 'find_last_o', 'ind_last_of', 'nd_last_of(', \"d_last_of('\", \"_last_of('.\", \"last_of('.'\", \"ast_of('.')\", \"st_of('.');\", \"t_of('.'); \", \"_of('.'); i\", \"of('.'); if\", \"f('.'); if \", \"('.'); if (\", \"'.'); if (p\", \".'); if (po\", \"'); if (pos\", '); if (pos ', '; if (pos !', ' if (pos !=', 'if (pos != ', 'f (pos != s', ' (pos != st', '(pos != str', 'pos != stri', 'os != strin', 's != string', ' != string:', '!= string::', '= string::n', ' string::np', 'string::npo', 'tring::npos', 'ring::npos)', 'ing::npos) ', 'ng::npos) {', 'g::npos) { ', '::npos) { f', ':npos) { fi', 'npos) { fil', 'pos) { file', 'os) { fileO', 's) { fileOu', ') { fileOut', ' { fileOut ', '{ fileOut =', ' fileOut = ', 'fileOut = f', 'ileOut = fi', 'leOut = fil', 'eOut = file', 'Out = fileI', 'ut = fileIn', 't = fileIn.', ' = fileIn.s', '= fileIn.su', ' fileIn.sub', 'fileIn.subs', 'ileIn.subst', 'leIn.substr', 'eIn.substr(', 'In.substr(0', 'n.substr(0,', '.substr(0, ', 'substr(0, p', 'ubstr(0, po', 'bstr(0, pos', 'str(0, pos)', 'tr(0, pos);', 'r(0, pos); ', '(0, pos); }', '0, pos); } ', ', pos); } /', ' pos); } //', 'pos); } // ', 'os); } // c', 's); } // cr', '); } // cre', '; } // crea', ' } // creat', '} // create', ' // create ', '// create s', '/ create st', ' create str', 'create stre', 'reate strea', 'eate stream', 'ate streams', 'te streams ', 'e streams a', ' streams au', 'streams aut', 'treams auto', 'reams auto ', 'eams auto o', 'ams auto ou', 'ms auto out', 's auto outF', ' auto outFi', 'auto outFil', 'uto outFile', 'to outFile ', 'o outFile =', ' outFile = ', 'outFile = m', 'utFile = ma', 'tFile = mak', 'File = make', 'ile = make_', 'le = make_s', 'e = make_sh', ' = make_sha', '= make_shar', ' make_share', 'make_shared', 'ake_shared<', 'ke_shared<f', 'e_shared<fs', '_shared<fst', 'shared<fstr', 'hared<fstre', 'ared<fstrea', 'red<fstream', 'ed<fstream>', 'd<fstream>(', '<fstream>( ', 'fstream>( f', 'stream>( fi', 'tream>( fil', 'ream>( file', 'eam>( fileO', 'am>( fileOu', 'm>( fileOut', '>( fileOut,', '( fileOut, ', ' fileOut, i', 'fileOut, io', 'ileOut, ios', 'leOut, ios_', 'eOut, ios_b', 'Out, ios_ba', 'ut, ios_bas', 't, ios_base', ', ios_base:', ' ios_base::', 'ios_base::i', 'os_base::in', 's_base::in ', '_base::in |', 'base::in | ', 'ase::in | i', 'se::in | io', 'e::in | ios', '::in | ios_', ':in | ios_b', 'in | ios_ba', 'n | ios_bas', ' | ios_base', '| ios_base:', ' ios_base::', 'ios_base::o', 'os_base::ou', 's_base::out', '_base::out ', 'base::out |', 'ase::out | ', 'se::out | i', 'e::out | io', '::out | ios', ':out | ios_', 'out | ios_b', 'ut | ios_ba', 't | ios_bas', ' | ios_base', '| ios_base:', ' ios_base::', 'ios_base::t', 'os_base::tr', 's_base::tru', '_base::trun', 'base::trunc', 'ase::trunc ', 'se::trunc |', 'e::trunc | ', '::trunc | i', ':trunc | io', 'trunc | ios', 'runc | ios_', 'unc | ios_b', 'nc | ios_ba', 'c | ios_bas', ' | ios_base', '| ios_base:', ' ios_base::', 'ios_base::b', 'os_base::bi', 's_base::bin', '_base::bina', 'base::binar', 'ase::binary', 'se::binary)', 'e::binary);', '::binary); ', ':binary); i', 'binary); if', 'inary); if ', 'nary); if (', 'ary); if (!', 'ry); if (!o', 'y); if (!ou', '); if (!out', '; if (!outF', ' if (!outFi', 'if (!outFil', 'f (!outFile', ' (!outFile-', '(!outFile->', '!outFile->i', 'outFile->is', 'utFile->is_', 'tFile->is_o', 'File->is_op', 'ile->is_ope', 'le->is_open', 'e->is_open(', '->is_open()', '>is_open())', 'is_open()) ', 's_open()) {', '_open()) { ', 'open()) { A', 'pen()) { Ad', 'en()) { Add', 'n()) { AddL', '()) { AddLo', ')) { AddLog', ') { AddLog(', ' { AddLog(\"', '{ AddLog(\"E', ' AddLog(\"ER', 'AddLog(\"ERR', 'ddLog(\"ERRO', 'dLog(\"ERROR', 'Log(\"ERROR:', 'og(\"ERROR: ', 'g(\"ERROR: F', '(\"ERROR: Fa', '\"ERROR: Fai', 'ERROR: Fail', 'RROR: Faile', 'ROR: Failed', 'OR: Failed ', 'R: Failed t', ': Failed to', ' Failed to ', 'Failed to o', 'ailed to op', 'iled to ope', 'led to open', 'ed to open ', 'd to open \"', ' to open \",', 'to open \", ', 'o open \", f', ' open \", fi', 'open \", fil', 'pen \", file', 'en \", fileO', 'n \", fileOu', ' \", fileOut', '\", fileOut.', ', fileOut.c', ' fileOut.c_', 'fileOut.c_s', 'ileOut.c_st', 'leOut.c_str', 'eOut.c_str(', 'Out.c_str()', 'ut.c_str())', 't.c_str());', '.c_str()); ', 'c_str()); r', '_str()); re', 'str()); ret', 'tr()); retu', 'r()); retur', '()); return', ')); return;', '); return; ', '; return; }', ' return; } ', 'return; } t', 'eturn; } tr', 'turn; } try', 'urn; } try ', 'rn; } try {', 'n; } try { ', '; } try { /', ' } try { //', '} try { // ', ' try { // c', 'try { // cr', 'ry { // cre', 'y { // crea', ' { // creat', '{ // create', ' // create ', '// create a', '/ create au', ' create aut', 'create auth', 'reate authe', 'eate authen', 'ate authent', 'te authenti', 'e authentic', ' authentica', 'authenticat', 'uthenticati', 'thenticatio', 'hentication', 'entication ', 'ntication c', 'tication co', 'ication con', 'cation cont', 'ation conte', 'tion contex', 'ion context', 'on context ', 'n context A', ' context Au', 'context Aut', 'ontext Auth', 'ntext AuthC', 'text AuthCa', 'ext AuthCal', 'xt AuthCall', 't AuthCallb', ' AuthCallba', 'AuthCallbac', 'uthCallback', 'thCallback ', 'hCallback a', 'Callback au', 'allback aut', 'llback auth', 'lback auth(', 'back auth(c', 'ack auth(cl', 'ck auth(cli', 'k auth(clie', ' auth(clien', 'auth(client', 'uth(clientI', 'th(clientId', 'h(clientId,', '(clientId, ', 'clientId, r', 'lientId, re', 'ientId, red', 'entId, redi', 'ntId, redir', 'tId, redire', 'Id, redirec', 'd, redirect', ', redirectU', ' redirectUr', 'redirectUrl', 'edirectUrl)', 'directUrl);', 'irectUrl); ', 'rectUrl); /', 'ectUrl); //', 'ctUrl); // ', 'tUrl); // p', 'Url); // pr', 'rl); // pro', 'l); // proc', '); // proce', '; // proces', ' // process', '// process ', '/ process c', ' process co', 'process con', 'rocess conv', 'ocess conve', 'cess conver', 'ess convers', 'ss conversi', 's conversio', ' conversion', 'conversion ', 'onversion a', 'nversion au', 'version aut', 'ersion auto', 'rsion auto ', 'sion auto p', 'ion auto pf', 'on auto pfs', 'n auto pfs ', ' auto pfs =', 'auto pfs = ', 'uto pfs = P', 'to pfs = PF', 'o pfs = PFi', ' pfs = PFil', 'pfs = PFile', 'fs = PFileC', 's = PFileCo', ' = PFileCon', '= PFileConv', ' PFileConve', 'PFileConver', 'FileConvert', 'ileConverte', 'leConverter', 'eConverter:', 'Converter::', 'onverter::C', 'nverter::Co', 'verter::Con', 'erter::Conv', 'rter::Conve', 'ter::Conver', 'er::Convert', 'r::ConvertF', '::ConvertFr', ':ConvertFro', 'ConvertFrom', 'onvertFromP', 'nvertFromPF', 'vertFromPFi', 'ertFromPFil', 'rtFromPFile', 'tFromPFile(', 'FromPFile( ', 'romPFile( c', 'omPFile( cl', 'mPFile( cli', 'PFile( clie', 'File( clien', 'ile( client', 'le( clientE', 'e( clientEm', '( clientEma', ' clientEmai', 'clientEmail', 'lientEmail,', 'ientEmail, ', 'entEmail, i', 'ntEmail, in', 'tEmail, inF', 'Email, inFi', 'mail, inFil', 'ail, inFile', 'il, inFile,', 'l, inFile, ', ', inFile, o', ' inFile, ou', 'inFile, out', 'nFile, outF', 'File, outFi', 'ile, outFil', 'le, outFile', 'e, outFile,', ', outFile, ', ' outFile, a', 'outFile, au', 'utFile, aut', 'tFile, auth', 'File, auth,', 'ile, auth, ', 'le, auth, t', 'e, auth, th', ', auth, thi', ' auth, this', 'auth, this-', 'uth, this->', 'th, this->c', 'h, this->co', ', this->con', ' this->cons', 'this->conse', 'his->consen', 'is->consent', 's->consent)', '->consent);', '>consent); ', 'consent); A', 'onsent); Ad', 'nsent); Add', 'sent); AddL', 'ent); AddLo', 'nt); AddLog', 't); AddLog(', '); AddLog(\"', '; AddLog(\"S', ' AddLog(\"Su', 'AddLog(\"Suc', 'ddLog(\"Succ', 'dLog(\"Succe', 'Log(\"Succes', 'og(\"Success', 'g(\"Successf', '(\"Successfu', '\"Successful', 'Successfull', 'uccessfully', 'ccessfully ', 'cessfully c', 'essfully co', 'ssfully con', 'sfully conv', 'fully conve', 'ully conver', 'lly convert', 'ly converte', 'y converted', ' converted ', 'converted t', 'onverted to', 'nverted to ', 'verted to \"', 'erted to \",', 'rted to \", ', 'ted to \", f', 'ed to \", fi', 'd to \", fil', ' to \", file', 'to \", fileO', 'o \", fileOu', ' \", fileOut', '\", fileOut.', ', fileOut.c', ' fileOut.c_', 'fileOut.c_s', 'ileOut.c_st', 'leOut.c_str', 'eOut.c_str(', 'Out.c_str()', 'ut.c_str())', 't.c_str());', '.c_str()); ', 'c_str()); }', '_str()); } ', 'str()); } c', 'tr()); } ca', 'r()); } cat', '()); } catc', ')); } catch', '); } catch ', '; } catch (', ' } catch (c', '} catch (co', ' catch (con', 'catch (cons', 'atch (const', 'tch (const ', 'ch (const r', 'h (const rm', ' (const rms', '(const rmsa', 'const rmsau', 'onst rmsaut', 'nst rmsauth', 'st rmsauth:', 't rmsauth::', ' rmsauth::E', 'rmsauth::Ex', 'msauth::Exc', 'sauth::Exce', 'auth::Excep', 'uth::Except', 'th::Excepti', 'h::Exceptio', '::Exception', ':Exception&', 'Exception& ', 'xception& e', 'ception& e)', 'eption& e) ', 'ption& e) {', 'tion& e) { ', 'ion& e) { A', 'on& e) { Ad', 'n& e) { Add', '& e) { AddL', ' e) { AddLo', 'e) { AddLog', ') { AddLog(', ' { AddLog(\"', '{ AddLog(\"E', ' AddLog(\"ER', 'AddLog(\"ERR', 'ddLog(\"ERRO', 'dLog(\"ERROR', 'Log(\"ERROR:', 'og(\"ERROR: ', 'g(\"ERROR: \"', '(\"ERROR: \",', '\"ERROR: \", ', 'ERROR: \", e', 'RROR: \", e.', 'ROR: \", e.e', 'OR: \", e.er', 'R: \", e.err', ': \", e.erro', ' \", e.error', '\", e.error(', ', e.error()', ' e.error().', 'e.error().c', '.error().c_', 'error().c_s', 'rror().c_st', 'ror().c_str', 'or().c_str(', 'r().c_str()', '().c_str())', ').c_str());', '.c_str()); ', 'c_str()); }', '_str()); } ', 'str()); } c', 'tr()); } ca', 'r()); } cat', '()); } catc', ')); } catch', '); } catch ', '; } catch (', ' } catch (c', '} catch (co', ' catch (con', 'catch (cons', 'atch (const', 'tch (const ', 'ch (const r', 'h (const rm', ' (const rms', '(const rmsc', 'const rmsco', 'onst rmscor', 'nst rmscore', 'st rmscore:', 't rmscore::', ' rmscore::e', 'rmscore::ex', 'mscore::exc', 'score::exce', 'core::excep', 'ore::except', 're::excepti', 'e::exceptio', '::exception', ':exceptions', 'exceptions:', 'xceptions::', 'ceptions::R', 'eptions::RM', 'ptions::RMS', 'tions::RMSE', 'ions::RMSEx', 'ons::RMSExc', 'ns::RMSExce', 's::RMSExcep', '::RMSExcept', ':RMSExcepti', 'RMSExceptio', 'MSException', 'SException&', 'Exception& ', 'xception& e', 'ception& e)', 'eption& e) ', 'ption& e) {', 'tion& e) { ', 'ion& e) { A', 'on& e) { Ad', 'n& e) { Add', '& e) { AddL', ' e) { AddLo', 'e) { AddLog', ') { AddLog(', ' { AddLog(\"', '{ AddLog(\"E', ' AddLog(\"ER', 'AddLog(\"ERR', 'ddLog(\"ERRO', 'dLog(\"ERROR', 'Log(\"ERROR:', 'og(\"ERROR: ', 'g(\"ERROR: \"', '(\"ERROR: \",', '\"ERROR: \", ', 'ERROR: \", e', 'RROR: \", e.', 'ROR: \", e.w', 'OR: \", e.wh', 'R: \", e.wha', ': \", e.what', ' \", e.what(', '\", e.what()', ', e.what())', ' e.what());', 'e.what()); ', '.what()); }', 'what()); } ', 'hat()); } i', 'at()); } in', 't()); } inF', '()); } inFi', ')); } inFil', '); } inFile', '; } inFile-', ' } inFile->', '} inFile->c', ' inFile->cl', 'inFile->clo', 'nFile->clos', 'File->close', 'ile->close(', 'le->close()', 'e->close();', '->close(); ', '>close(); o', 'close(); ou', 'lose(); out', 'ose(); outF', 'se(); outFi', 'e(); outFil', '(); outFile', '); outFile-', '; outFile->', ' outFile->c', 'outFile->cl', 'utFile->clo', 'tFile->clos', 'File->close', 'ile->close(', 'le->close()', 'e->close();', '->close(); ', '>close(); }']\n"
          ],
          "name": "stdout"
        }
      ]
    },
    {
      "cell_type": "code",
      "metadata": {
        "id": "ob7yZdoNPXWo",
        "colab_type": "code",
        "colab": {
          "base_uri": "https://localhost:8080/",
          "height": 35
        },
        "outputId": "a489f0ba-3c93-47c0-82fe-0b4f93e9aefb"
      },
      "source": [
        "from numpy import array\n",
        "from pickle import dump\n",
        "from keras.utils import to_categorical\n",
        "from keras.models import Sequential\n",
        "from keras.layers import Dense\n",
        "from keras.layers import LSTM\n",
        "\n",
        "# load doc into memory\n",
        "def load_doc(filename):\n",
        "\t# open the file as read only\n",
        "\tfile = open(filename, 'r')\n",
        "\t# read all text\n",
        "\ttext = file.read()\n",
        "\t# close the file\n",
        "\tfile.close()\n",
        "\treturn text\n",
        "\n",
        "# load\n",
        "in_filename = 'char_sequences.txt'\n",
        "raw_text = load_doc(in_filename)\n",
        "lines = raw_text.split('\\n')   # 각 시퀀스들을 line 단위로 분할하여 lines에 저장합니다.\n",
        "\n",
        "# integer encode sequences of characters\n",
        "chars = sorted(list(set(raw_text)))       # set을 통해 전체 텍스트에 속해있는 character들의 unique 리스트를 만들고 정렬합니다.\n",
        "mapping = dict((c, i) for i, c in enumerate(chars))   # enumerate를 통해 각 인덱스마다 번호와 char의 튜플을 구하여 딕셔너리를 만듭니다.\n",
        "sequences = list()\n",
        "for line in lines:\n",
        "\t# integer encode line\n",
        "\tencoded_seq = [mapping[char] for char in line]\n",
        "\t# store\n",
        "\tsequences.append(encoded_seq)    # 모든 코드를 mapping 딕셔너리를 통해 정수값으로 매핑합니다."
      ],
      "execution_count": 5,
      "outputs": [
        {
          "output_type": "stream",
          "text": [
            "Using TensorFlow backend.\n"
          ],
          "name": "stderr"
        }
      ]
    },
    {
      "cell_type": "code",
      "metadata": {
        "id": "LgJc3UIz_WU9",
        "colab_type": "code",
        "colab": {
          "base_uri": "https://localhost:8080/",
          "height": 91
        },
        "outputId": "ba13ac95-3a4d-49f7-c0a4-f319b570305f"
      },
      "source": [
        "print(chars)\n",
        "print(mapping)\n",
        "print(sequences)"
      ],
      "execution_count": 6,
      "outputs": [
        {
          "output_type": "stream",
          "text": [
            "['\\n', ' ', '!', '\"', '&', \"'\", '(', ')', ',', '-', '.', '/', '0', ':', ';', '<', '=', '>', 'A', 'C', 'D', 'E', 'F', 'H', 'I', 'K', 'L', 'M', 'O', 'P', 'R', 'S', 'U', 'W', '_', 'a', 'b', 'c', 'd', 'e', 'f', 'g', 'h', 'i', 'k', 'l', 'm', 'n', 'o', 'p', 'r', 's', 't', 'u', 'v', 'w', 'x', 'y', '{', '|', '}']\n",
            "{'\\n': 0, ' ': 1, '!': 2, '\"': 3, '&': 4, \"'\": 5, '(': 6, ')': 7, ',': 8, '-': 9, '.': 10, '/': 11, '0': 12, ':': 13, ';': 14, '<': 15, '=': 16, '>': 17, 'A': 18, 'C': 19, 'D': 20, 'E': 21, 'F': 22, 'H': 23, 'I': 24, 'K': 25, 'L': 26, 'M': 27, 'O': 28, 'P': 29, 'R': 30, 'S': 31, 'U': 32, 'W': 33, '_': 34, 'a': 35, 'b': 36, 'c': 37, 'd': 38, 'e': 39, 'f': 40, 'g': 41, 'h': 42, 'i': 43, 'k': 44, 'l': 45, 'm': 46, 'n': 47, 'o': 48, 'p': 49, 'r': 50, 's': 51, 't': 52, 'u': 53, 'v': 54, 'w': 55, 'x': 56, 'y': 57, '{': 58, '|': 59, '}': 60}\n",
            "[[54, 48, 43, 38, 1, 27, 35, 43, 47, 33, 43], [48, 43, 38, 1, 27, 35, 43, 47, 33, 43, 47], [43, 38, 1, 27, 35, 43, 47, 33, 43, 47, 38], [38, 1, 27, 35, 43, 47, 33, 43, 47, 38, 48], [1, 27, 35, 43, 47, 33, 43, 47, 38, 48, 55], [27, 35, 43, 47, 33, 43, 47, 38, 48, 55, 13], [35, 43, 47, 33, 43, 47, 38, 48, 55, 13, 13], [43, 47, 33, 43, 47, 38, 48, 55, 13, 13, 19], [47, 33, 43, 47, 38, 48, 55, 13, 13, 19, 48], [33, 43, 47, 38, 48, 55, 13, 13, 19, 48, 47], [43, 47, 38, 48, 55, 13, 13, 19, 48, 47, 54], [47, 38, 48, 55, 13, 13, 19, 48, 47, 54, 39], [38, 48, 55, 13, 13, 19, 48, 47, 54, 39, 50], [48, 55, 13, 13, 19, 48, 47, 54, 39, 50, 52], [55, 13, 13, 19, 48, 47, 54, 39, 50, 52, 22], [13, 13, 19, 48, 47, 54, 39, 50, 52, 22, 50], [13, 19, 48, 47, 54, 39, 50, 52, 22, 50, 48], [19, 48, 47, 54, 39, 50, 52, 22, 50, 48, 46], [48, 47, 54, 39, 50, 52, 22, 50, 48, 46, 29], [47, 54, 39, 50, 52, 22, 50, 48, 46, 29, 22], [54, 39, 50, 52, 22, 50, 48, 46, 29, 22, 24], [39, 50, 52, 22, 50, 48, 46, 29, 22, 24, 26], [50, 52, 22, 50, 48, 46, 29, 22, 24, 26, 21], [52, 22, 50, 48, 46, 29, 22, 24, 26, 21, 6], [22, 50, 48, 46, 29, 22, 24, 26, 21, 6, 37], [50, 48, 46, 29, 22, 24, 26, 21, 6, 37, 48], [48, 46, 29, 22, 24, 26, 21, 6, 37, 48, 47], [46, 29, 22, 24, 26, 21, 6, 37, 48, 47, 51], [29, 22, 24, 26, 21, 6, 37, 48, 47, 51, 52], [22, 24, 26, 21, 6, 37, 48, 47, 51, 52, 1], [24, 26, 21, 6, 37, 48, 47, 51, 52, 1, 51], [26, 21, 6, 37, 48, 47, 51, 52, 1, 51, 52], [21, 6, 37, 48, 47, 51, 52, 1, 51, 52, 50], [6, 37, 48, 47, 51, 52, 1, 51, 52, 50, 43], [37, 48, 47, 51, 52, 1, 51, 52, 50, 43, 47], [48, 47, 51, 52, 1, 51, 52, 50, 43, 47, 41], [47, 51, 52, 1, 51, 52, 50, 43, 47, 41, 4], [51, 52, 1, 51, 52, 50, 43, 47, 41, 4, 1], [52, 1, 51, 52, 50, 43, 47, 41, 4, 1, 40], [1, 51, 52, 50, 43, 47, 41, 4, 1, 40, 43], [51, 52, 50, 43, 47, 41, 4, 1, 40, 43, 45], [52, 50, 43, 47, 41, 4, 1, 40, 43, 45, 39], [50, 43, 47, 41, 4, 1, 40, 43, 45, 39, 24], [43, 47, 41, 4, 1, 40, 43, 45, 39, 24, 47], [47, 41, 4, 1, 40, 43, 45, 39, 24, 47, 8], [41, 4, 1, 40, 43, 45, 39, 24, 47, 8, 1], [4, 1, 40, 43, 45, 39, 24, 47, 8, 1, 37], [1, 40, 43, 45, 39, 24, 47, 8, 1, 37, 48], [40, 43, 45, 39, 24, 47, 8, 1, 37, 48, 47], [43, 45, 39, 24, 47, 8, 1, 37, 48, 47, 51], [45, 39, 24, 47, 8, 1, 37, 48, 47, 51, 52], [39, 24, 47, 8, 1, 37, 48, 47, 51, 52, 1], [24, 47, 8, 1, 37, 48, 47, 51, 52, 1, 51], [47, 8, 1, 37, 48, 47, 51, 52, 1, 51, 52], [8, 1, 37, 48, 47, 51, 52, 1, 51, 52, 50], [1, 37, 48, 47, 51, 52, 1, 51, 52, 50, 43], [37, 48, 47, 51, 52, 1, 51, 52, 50, 43, 47], [48, 47, 51, 52, 1, 51, 52, 50, 43, 47, 41], [47, 51, 52, 1, 51, 52, 50, 43, 47, 41, 4], [51, 52, 1, 51, 52, 50, 43, 47, 41, 4, 1], [52, 1, 51, 52, 50, 43, 47, 41, 4, 1, 37], [1, 51, 52, 50, 43, 47, 41, 4, 1, 37, 45], [51, 52, 50, 43, 47, 41, 4, 1, 37, 45, 43], [52, 50, 43, 47, 41, 4, 1, 37, 45, 43, 39], [50, 43, 47, 41, 4, 1, 37, 45, 43, 39, 47], [43, 47, 41, 4, 1, 37, 45, 43, 39, 47, 52], [47, 41, 4, 1, 37, 45, 43, 39, 47, 52, 24], [41, 4, 1, 37, 45, 43, 39, 47, 52, 24, 38], [4, 1, 37, 45, 43, 39, 47, 52, 24, 38, 8], [1, 37, 45, 43, 39, 47, 52, 24, 38, 8, 1], [37, 45, 43, 39, 47, 52, 24, 38, 8, 1, 37], [45, 43, 39, 47, 52, 24, 38, 8, 1, 37, 48], [43, 39, 47, 52, 24, 38, 8, 1, 37, 48, 47], [39, 47, 52, 24, 38, 8, 1, 37, 48, 47, 51], [47, 52, 24, 38, 8, 1, 37, 48, 47, 51, 52], [52, 24, 38, 8, 1, 37, 48, 47, 51, 52, 1], [24, 38, 8, 1, 37, 48, 47, 51, 52, 1, 51], [38, 8, 1, 37, 48, 47, 51, 52, 1, 51, 52], [8, 1, 37, 48, 47, 51, 52, 1, 51, 52, 50], [1, 37, 48, 47, 51, 52, 1, 51, 52, 50, 43], [37, 48, 47, 51, 52, 1, 51, 52, 50, 43, 47], [48, 47, 51, 52, 1, 51, 52, 50, 43, 47, 41], [47, 51, 52, 1, 51, 52, 50, 43, 47, 41, 4], [51, 52, 1, 51, 52, 50, 43, 47, 41, 4, 1], [52, 1, 51, 52, 50, 43, 47, 41, 4, 1, 50], [1, 51, 52, 50, 43, 47, 41, 4, 1, 50, 39], [51, 52, 50, 43, 47, 41, 4, 1, 50, 39, 38], [52, 50, 43, 47, 41, 4, 1, 50, 39, 38, 43], [50, 43, 47, 41, 4, 1, 50, 39, 38, 43, 50], [43, 47, 41, 4, 1, 50, 39, 38, 43, 50, 39], [47, 41, 4, 1, 50, 39, 38, 43, 50, 39, 37], [41, 4, 1, 50, 39, 38, 43, 50, 39, 37, 52], [4, 1, 50, 39, 38, 43, 50, 39, 37, 52, 32], [1, 50, 39, 38, 43, 50, 39, 37, 52, 32, 50], [50, 39, 38, 43, 50, 39, 37, 52, 32, 50, 45], [39, 38, 43, 50, 39, 37, 52, 32, 50, 45, 8], [38, 43, 50, 39, 37, 52, 32, 50, 45, 8, 1], [43, 50, 39, 37, 52, 32, 50, 45, 8, 1, 37], [50, 39, 37, 52, 32, 50, 45, 8, 1, 37, 48], [39, 37, 52, 32, 50, 45, 8, 1, 37, 48, 47], [37, 52, 32, 50, 45, 8, 1, 37, 48, 47, 51], [52, 32, 50, 45, 8, 1, 37, 48, 47, 51, 52], [32, 50, 45, 8, 1, 37, 48, 47, 51, 52, 1], [50, 45, 8, 1, 37, 48, 47, 51, 52, 1, 51], [45, 8, 1, 37, 48, 47, 51, 52, 1, 51, 52], [8, 1, 37, 48, 47, 51, 52, 1, 51, 52, 50], [1, 37, 48, 47, 51, 52, 1, 51, 52, 50, 43], [37, 48, 47, 51, 52, 1, 51, 52, 50, 43, 47], [48, 47, 51, 52, 1, 51, 52, 50, 43, 47, 41], [47, 51, 52, 1, 51, 52, 50, 43, 47, 41, 4], [51, 52, 1, 51, 52, 50, 43, 47, 41, 4, 1], [52, 1, 51, 52, 50, 43, 47, 41, 4, 1, 37], [1, 51, 52, 50, 43, 47, 41, 4, 1, 37, 45], [51, 52, 50, 43, 47, 41, 4, 1, 37, 45, 43], [52, 50, 43, 47, 41, 4, 1, 37, 45, 43, 39], [50, 43, 47, 41, 4, 1, 37, 45, 43, 39, 47], [43, 47, 41, 4, 1, 37, 45, 43, 39, 47, 52], [47, 41, 4, 1, 37, 45, 43, 39, 47, 52, 21], [41, 4, 1, 37, 45, 43, 39, 47, 52, 21, 46], [4, 1, 37, 45, 43, 39, 47, 52, 21, 46, 35], [1, 37, 45, 43, 39, 47, 52, 21, 46, 35, 43], [37, 45, 43, 39, 47, 52, 21, 46, 35, 43, 45], [45, 43, 39, 47, 52, 21, 46, 35, 43, 45, 7], [43, 39, 47, 52, 21, 46, 35, 43, 45, 7, 1], [39, 47, 52, 21, 46, 35, 43, 45, 7, 1, 58], [47, 52, 21, 46, 35, 43, 45, 7, 1, 58, 1], [52, 21, 46, 35, 43, 45, 7, 1, 58, 1, 11], [21, 46, 35, 43, 45, 7, 1, 58, 1, 11, 11], [46, 35, 43, 45, 7, 1, 58, 1, 11, 11, 1], [35, 43, 45, 7, 1, 58, 1, 11, 11, 1, 35], [43, 45, 7, 1, 58, 1, 11, 11, 1, 35, 38], [45, 7, 1, 58, 1, 11, 11, 1, 35, 38, 38], [7, 1, 58, 1, 11, 11, 1, 35, 38, 38, 1], [1, 58, 1, 11, 11, 1, 35, 38, 38, 1, 52], [58, 1, 11, 11, 1, 35, 38, 38, 1, 52, 50], [1, 11, 11, 1, 35, 38, 38, 1, 52, 50, 53], [11, 11, 1, 35, 38, 38, 1, 52, 50, 53, 51], [11, 1, 35, 38, 38, 1, 52, 50, 53, 51, 52], [1, 35, 38, 38, 1, 52, 50, 53, 51, 52, 39], [35, 38, 38, 1, 52, 50, 53, 51, 52, 39, 38], [38, 38, 1, 52, 50, 53, 51, 52, 39, 38, 1], [38, 1, 52, 50, 53, 51, 52, 39, 38, 1, 37], [1, 52, 50, 53, 51, 52, 39, 38, 1, 37, 39], [52, 50, 53, 51, 52, 39, 38, 1, 37, 39, 50], [50, 53, 51, 52, 39, 38, 1, 37, 39, 50, 52], [53, 51, 52, 39, 38, 1, 37, 39, 50, 52, 43], [51, 52, 39, 38, 1, 37, 39, 50, 52, 43, 40], [52, 39, 38, 1, 37, 39, 50, 52, 43, 40, 43], [39, 38, 1, 37, 39, 50, 52, 43, 40, 43, 37], [38, 1, 37, 39, 50, 52, 43, 40, 43, 37, 35], [1, 37, 39, 50, 52, 43, 40, 43, 37, 35, 52], [37, 39, 50, 52, 43, 40, 43, 37, 35, 52, 39], [39, 50, 52, 43, 40, 43, 37, 35, 52, 39, 51], [50, 52, 43, 40, 43, 37, 35, 52, 39, 51, 1], [52, 43, 40, 43, 37, 35, 52, 39, 51, 1, 53], [43, 40, 43, 37, 35, 52, 39, 51, 1, 53, 51], [40, 43, 37, 35, 52, 39, 51, 1, 53, 51, 43], [43, 37, 35, 52, 39, 51, 1, 53, 51, 43, 47], [37, 35, 52, 39, 51, 1, 53, 51, 43, 47, 41], [35, 52, 39, 51, 1, 53, 51, 43, 47, 41, 1], [52, 39, 51, 1, 53, 51, 43, 47, 41, 1, 23], [39, 51, 1, 53, 51, 43, 47, 41, 1, 23, 52], [51, 1, 53, 51, 43, 47, 41, 1, 23, 52, 52], [1, 53, 51, 43, 47, 41, 1, 23, 52, 52, 49], [53, 51, 43, 47, 41, 1, 23, 52, 52, 49, 23], [51, 43, 47, 41, 1, 23, 52, 52, 49, 23, 39], [43, 47, 41, 1, 23, 52, 52, 49, 23, 39, 45], [47, 41, 1, 23, 52, 52, 49, 23, 39, 45, 49], [41, 1, 23, 52, 52, 49, 23, 39, 45, 49, 39], [1, 23, 52, 52, 49, 23, 39, 45, 49, 39, 50], [23, 52, 52, 49, 23, 39, 45, 49, 39, 50, 51], [52, 52, 49, 23, 39, 45, 49, 39, 50, 51, 1], [52, 49, 23, 39, 45, 49, 39, 50, 51, 1, 48], [49, 23, 39, 45, 49, 39, 50, 51, 1, 48, 40], [23, 39, 45, 49, 39, 50, 51, 1, 48, 40, 1], [39, 45, 49, 39, 50, 51, 1, 48, 40, 1, 30], [45, 49, 39, 50, 51, 1, 48, 40, 1, 30, 27], [49, 39, 50, 51, 1, 48, 40, 1, 30, 27, 31], [39, 50, 51, 1, 48, 40, 1, 30, 27, 31, 1], [50, 51, 1, 48, 40, 1, 30, 27, 31, 1, 35], [51, 1, 48, 40, 1, 30, 27, 31, 1, 35, 47], [1, 48, 40, 1, 30, 27, 31, 1, 35, 47, 38], [48, 40, 1, 30, 27, 31, 1, 35, 47, 38, 1], [40, 1, 30, 27, 31, 1, 35, 47, 38, 1, 18], [1, 30, 27, 31, 1, 35, 47, 38, 1, 18, 53], [30, 27, 31, 1, 35, 47, 38, 1, 18, 53, 52], [27, 31, 1, 35, 47, 38, 1, 18, 53, 52, 42], [31, 1, 35, 47, 38, 1, 18, 53, 52, 42, 1], [1, 35, 47, 38, 1, 18, 53, 52, 42, 1, 31], [35, 47, 38, 1, 18, 53, 52, 42, 1, 31, 20], [47, 38, 1, 18, 53, 52, 42, 1, 31, 20, 25], [38, 1, 18, 53, 52, 42, 1, 31, 20, 25, 51], [1, 18, 53, 52, 42, 1, 31, 20, 25, 51, 1], [18, 53, 52, 42, 1, 31, 20, 25, 51, 1, 35], [53, 52, 42, 1, 31, 20, 25, 51, 1, 35, 38], [52, 42, 1, 31, 20, 25, 51, 1, 35, 38, 38], [42, 1, 31, 20, 25, 51, 1, 35, 38, 38, 19], [1, 31, 20, 25, 51, 1, 35, 38, 38, 19, 39], [31, 20, 25, 51, 1, 35, 38, 38, 19, 39, 50], [20, 25, 51, 1, 35, 38, 38, 19, 39, 50, 52], [25, 51, 1, 35, 38, 38, 19, 39, 50, 52, 43], [51, 1, 35, 38, 38, 19, 39, 50, 52, 43, 40], [1, 35, 38, 38, 19, 39, 50, 52, 43, 40, 43], [35, 38, 38, 19, 39, 50, 52, 43, 40, 43, 37], [38, 38, 19, 39, 50, 52, 43, 40, 43, 37, 35], [38, 19, 39, 50, 52, 43, 40, 43, 37, 35, 52], [19, 39, 50, 52, 43, 40, 43, 37, 35, 52, 39], [39, 50, 52, 43, 40, 43, 37, 35, 52, 39, 51], [50, 52, 43, 40, 43, 37, 35, 52, 39, 51, 6], [52, 43, 40, 43, 37, 35, 52, 39, 51, 6, 7], [43, 40, 43, 37, 35, 52, 39, 51, 6, 7, 14], [40, 43, 37, 35, 52, 39, 51, 6, 7, 14, 1], [43, 37, 35, 52, 39, 51, 6, 7, 14, 1, 11], [37, 35, 52, 39, 51, 6, 7, 14, 1, 11, 11], [35, 52, 39, 51, 6, 7, 14, 1, 11, 11, 1], [52, 39, 51, 6, 7, 14, 1, 11, 11, 1, 37], [39, 51, 6, 7, 14, 1, 11, 11, 1, 37, 50], [51, 6, 7, 14, 1, 11, 11, 1, 37, 50, 39], [6, 7, 14, 1, 11, 11, 1, 37, 50, 39, 35], [7, 14, 1, 11, 11, 1, 37, 50, 39, 35, 52], [14, 1, 11, 11, 1, 37, 50, 39, 35, 52, 39], [1, 11, 11, 1, 37, 50, 39, 35, 52, 39, 1], [11, 11, 1, 37, 50, 39, 35, 52, 39, 1, 51], [11, 1, 37, 50, 39, 35, 52, 39, 1, 51, 42], [1, 37, 50, 39, 35, 52, 39, 1, 51, 42, 35], [37, 50, 39, 35, 52, 39, 1, 51, 42, 35, 50], [50, 39, 35, 52, 39, 1, 51, 42, 35, 50, 39], [39, 35, 52, 39, 1, 51, 42, 35, 50, 39, 38], [35, 52, 39, 1, 51, 42, 35, 50, 39, 38, 1], [52, 39, 1, 51, 42, 35, 50, 39, 38, 1, 43], [39, 1, 51, 42, 35, 50, 39, 38, 1, 43, 47], [1, 51, 42, 35, 50, 39, 38, 1, 43, 47, 11], [51, 42, 35, 50, 39, 38, 1, 43, 47, 11, 48], [42, 35, 50, 39, 38, 1, 43, 47, 11, 48, 53], [35, 50, 39, 38, 1, 43, 47, 11, 48, 53, 52], [50, 39, 38, 1, 43, 47, 11, 48, 53, 52, 1], [39, 38, 1, 43, 47, 11, 48, 53, 52, 1, 51], [38, 1, 43, 47, 11, 48, 53, 52, 1, 51, 52], [1, 43, 47, 11, 48, 53, 52, 1, 51, 52, 50], [43, 47, 11, 48, 53, 52, 1, 51, 52, 50, 39], [47, 11, 48, 53, 52, 1, 51, 52, 50, 39, 35], [11, 48, 53, 52, 1, 51, 52, 50, 39, 35, 46], [48, 53, 52, 1, 51, 52, 50, 39, 35, 46, 51], [53, 52, 1, 51, 52, 50, 39, 35, 46, 51, 1], [52, 1, 51, 52, 50, 39, 35, 46, 51, 1, 35], [1, 51, 52, 50, 39, 35, 46, 51, 1, 35, 53], [51, 52, 50, 39, 35, 46, 51, 1, 35, 53, 52], [52, 50, 39, 35, 46, 51, 1, 35, 53, 52, 48], [50, 39, 35, 46, 51, 1, 35, 53, 52, 48, 1], [39, 35, 46, 51, 1, 35, 53, 52, 48, 1, 43], [35, 46, 51, 1, 35, 53, 52, 48, 1, 43, 47], [46, 51, 1, 35, 53, 52, 48, 1, 43, 47, 22], [51, 1, 35, 53, 52, 48, 1, 43, 47, 22, 43], [1, 35, 53, 52, 48, 1, 43, 47, 22, 43, 45], [35, 53, 52, 48, 1, 43, 47, 22, 43, 45, 39], [53, 52, 48, 1, 43, 47, 22, 43, 45, 39, 1], [52, 48, 1, 43, 47, 22, 43, 45, 39, 1, 16], [48, 1, 43, 47, 22, 43, 45, 39, 1, 16, 1], [1, 43, 47, 22, 43, 45, 39, 1, 16, 1, 46], [43, 47, 22, 43, 45, 39, 1, 16, 1, 46, 35], [47, 22, 43, 45, 39, 1, 16, 1, 46, 35, 44], [22, 43, 45, 39, 1, 16, 1, 46, 35, 44, 39], [43, 45, 39, 1, 16, 1, 46, 35, 44, 39, 34], [45, 39, 1, 16, 1, 46, 35, 44, 39, 34, 51], [39, 1, 16, 1, 46, 35, 44, 39, 34, 51, 42], [1, 16, 1, 46, 35, 44, 39, 34, 51, 42, 35], [16, 1, 46, 35, 44, 39, 34, 51, 42, 35, 50], [1, 46, 35, 44, 39, 34, 51, 42, 35, 50, 39], [46, 35, 44, 39, 34, 51, 42, 35, 50, 39, 38], [35, 44, 39, 34, 51, 42, 35, 50, 39, 38, 15], [44, 39, 34, 51, 42, 35, 50, 39, 38, 15, 43], [39, 34, 51, 42, 35, 50, 39, 38, 15, 43, 40], [34, 51, 42, 35, 50, 39, 38, 15, 43, 40, 51], [51, 42, 35, 50, 39, 38, 15, 43, 40, 51, 52], [42, 35, 50, 39, 38, 15, 43, 40, 51, 52, 50], [35, 50, 39, 38, 15, 43, 40, 51, 52, 50, 39], [50, 39, 38, 15, 43, 40, 51, 52, 50, 39, 35], [39, 38, 15, 43, 40, 51, 52, 50, 39, 35, 46], [38, 15, 43, 40, 51, 52, 50, 39, 35, 46, 17], [15, 43, 40, 51, 52, 50, 39, 35, 46, 17, 6], [43, 40, 51, 52, 50, 39, 35, 46, 17, 6, 1], [40, 51, 52, 50, 39, 35, 46, 17, 6, 1, 40], [51, 52, 50, 39, 35, 46, 17, 6, 1, 40, 43], [52, 50, 39, 35, 46, 17, 6, 1, 40, 43, 45], [50, 39, 35, 46, 17, 6, 1, 40, 43, 45, 39], [39, 35, 46, 17, 6, 1, 40, 43, 45, 39, 24], [35, 46, 17, 6, 1, 40, 43, 45, 39, 24, 47], [46, 17, 6, 1, 40, 43, 45, 39, 24, 47, 8], [17, 6, 1, 40, 43, 45, 39, 24, 47, 8, 1], [6, 1, 40, 43, 45, 39, 24, 47, 8, 1, 43], [1, 40, 43, 45, 39, 24, 47, 8, 1, 43, 48], [40, 43, 45, 39, 24, 47, 8, 1, 43, 48, 51], [43, 45, 39, 24, 47, 8, 1, 43, 48, 51, 34], [45, 39, 24, 47, 8, 1, 43, 48, 51, 34, 36], [39, 24, 47, 8, 1, 43, 48, 51, 34, 36, 35], [24, 47, 8, 1, 43, 48, 51, 34, 36, 35, 51], [47, 8, 1, 43, 48, 51, 34, 36, 35, 51, 39], [8, 1, 43, 48, 51, 34, 36, 35, 51, 39, 13], [1, 43, 48, 51, 34, 36, 35, 51, 39, 13, 13], [43, 48, 51, 34, 36, 35, 51, 39, 13, 13, 43], [48, 51, 34, 36, 35, 51, 39, 13, 13, 43, 47], [51, 34, 36, 35, 51, 39, 13, 13, 43, 47, 1], [34, 36, 35, 51, 39, 13, 13, 43, 47, 1, 59], [36, 35, 51, 39, 13, 13, 43, 47, 1, 59, 1], [35, 51, 39, 13, 13, 43, 47, 1, 59, 1, 43], [51, 39, 13, 13, 43, 47, 1, 59, 1, 43, 48], [39, 13, 13, 43, 47, 1, 59, 1, 43, 48, 51], [13, 13, 43, 47, 1, 59, 1, 43, 48, 51, 34], [13, 43, 47, 1, 59, 1, 43, 48, 51, 34, 36], [43, 47, 1, 59, 1, 43, 48, 51, 34, 36, 35], [47, 1, 59, 1, 43, 48, 51, 34, 36, 35, 51], [1, 59, 1, 43, 48, 51, 34, 36, 35, 51, 39], [59, 1, 43, 48, 51, 34, 36, 35, 51, 39, 13], [1, 43, 48, 51, 34, 36, 35, 51, 39, 13, 13], [43, 48, 51, 34, 36, 35, 51, 39, 13, 13, 36], [48, 51, 34, 36, 35, 51, 39, 13, 13, 36, 43], [51, 34, 36, 35, 51, 39, 13, 13, 36, 43, 47], [34, 36, 35, 51, 39, 13, 13, 36, 43, 47, 35], [36, 35, 51, 39, 13, 13, 36, 43, 47, 35, 50], [35, 51, 39, 13, 13, 36, 43, 47, 35, 50, 57], [51, 39, 13, 13, 36, 43, 47, 35, 50, 57, 7], [39, 13, 13, 36, 43, 47, 35, 50, 57, 7, 14], [13, 13, 36, 43, 47, 35, 50, 57, 7, 14, 1], [13, 36, 43, 47, 35, 50, 57, 7, 14, 1, 43], [36, 43, 47, 35, 50, 57, 7, 14, 1, 43, 40], [43, 47, 35, 50, 57, 7, 14, 1, 43, 40, 1], [47, 35, 50, 57, 7, 14, 1, 43, 40, 1, 6], [35, 50, 57, 7, 14, 1, 43, 40, 1, 6, 2], [50, 57, 7, 14, 1, 43, 40, 1, 6, 2, 43], [57, 7, 14, 1, 43, 40, 1, 6, 2, 43, 47], [7, 14, 1, 43, 40, 1, 6, 2, 43, 47, 22], [14, 1, 43, 40, 1, 6, 2, 43, 47, 22, 43], [1, 43, 40, 1, 6, 2, 43, 47, 22, 43, 45], [43, 40, 1, 6, 2, 43, 47, 22, 43, 45, 39], [40, 1, 6, 2, 43, 47, 22, 43, 45, 39, 9], [1, 6, 2, 43, 47, 22, 43, 45, 39, 9, 17], [6, 2, 43, 47, 22, 43, 45, 39, 9, 17, 43], [2, 43, 47, 22, 43, 45, 39, 9, 17, 43, 51], [43, 47, 22, 43, 45, 39, 9, 17, 43, 51, 34], [47, 22, 43, 45, 39, 9, 17, 43, 51, 34, 48], [22, 43, 45, 39, 9, 17, 43, 51, 34, 48, 49], [43, 45, 39, 9, 17, 43, 51, 34, 48, 49, 39], [45, 39, 9, 17, 43, 51, 34, 48, 49, 39, 47], [39, 9, 17, 43, 51, 34, 48, 49, 39, 47, 6], [9, 17, 43, 51, 34, 48, 49, 39, 47, 6, 7], [17, 43, 51, 34, 48, 49, 39, 47, 6, 7, 7], [43, 51, 34, 48, 49, 39, 47, 6, 7, 7, 1], [51, 34, 48, 49, 39, 47, 6, 7, 7, 1, 58], [34, 48, 49, 39, 47, 6, 7, 7, 1, 58, 1], [48, 49, 39, 47, 6, 7, 7, 1, 58, 1, 18], [49, 39, 47, 6, 7, 7, 1, 58, 1, 18, 38], [39, 47, 6, 7, 7, 1, 58, 1, 18, 38, 38], [47, 6, 7, 7, 1, 58, 1, 18, 38, 38, 26], [6, 7, 7, 1, 58, 1, 18, 38, 38, 26, 48], [7, 7, 1, 58, 1, 18, 38, 38, 26, 48, 41], [7, 1, 58, 1, 18, 38, 38, 26, 48, 41, 6], [1, 58, 1, 18, 38, 38, 26, 48, 41, 6, 3], [58, 1, 18, 38, 38, 26, 48, 41, 6, 3, 21], [1, 18, 38, 38, 26, 48, 41, 6, 3, 21, 30], [18, 38, 38, 26, 48, 41, 6, 3, 21, 30, 30], [38, 38, 26, 48, 41, 6, 3, 21, 30, 30, 28], [38, 26, 48, 41, 6, 3, 21, 30, 30, 28, 30], [26, 48, 41, 6, 3, 21, 30, 30, 28, 30, 13], [48, 41, 6, 3, 21, 30, 30, 28, 30, 13, 1], [41, 6, 3, 21, 30, 30, 28, 30, 13, 1, 22], [6, 3, 21, 30, 30, 28, 30, 13, 1, 22, 35], [3, 21, 30, 30, 28, 30, 13, 1, 22, 35, 43], [21, 30, 30, 28, 30, 13, 1, 22, 35, 43, 45], [30, 30, 28, 30, 13, 1, 22, 35, 43, 45, 39], [30, 28, 30, 13, 1, 22, 35, 43, 45, 39, 38], [28, 30, 13, 1, 22, 35, 43, 45, 39, 38, 1], [30, 13, 1, 22, 35, 43, 45, 39, 38, 1, 52], [13, 1, 22, 35, 43, 45, 39, 38, 1, 52, 48], [1, 22, 35, 43, 45, 39, 38, 1, 52, 48, 1], [22, 35, 43, 45, 39, 38, 1, 52, 48, 1, 48], [35, 43, 45, 39, 38, 1, 52, 48, 1, 48, 49], [43, 45, 39, 38, 1, 52, 48, 1, 48, 49, 39], [45, 39, 38, 1, 52, 48, 1, 48, 49, 39, 47], [39, 38, 1, 52, 48, 1, 48, 49, 39, 47, 1], [38, 1, 52, 48, 1, 48, 49, 39, 47, 1, 3], [1, 52, 48, 1, 48, 49, 39, 47, 1, 3, 8], [52, 48, 1, 48, 49, 39, 47, 1, 3, 8, 1], [48, 1, 48, 49, 39, 47, 1, 3, 8, 1, 40], [1, 48, 49, 39, 47, 1, 3, 8, 1, 40, 43], [48, 49, 39, 47, 1, 3, 8, 1, 40, 43, 45], [49, 39, 47, 1, 3, 8, 1, 40, 43, 45, 39], [39, 47, 1, 3, 8, 1, 40, 43, 45, 39, 24], [47, 1, 3, 8, 1, 40, 43, 45, 39, 24, 47], [1, 3, 8, 1, 40, 43, 45, 39, 24, 47, 10], [3, 8, 1, 40, 43, 45, 39, 24, 47, 10, 37], [8, 1, 40, 43, 45, 39, 24, 47, 10, 37, 34], [1, 40, 43, 45, 39, 24, 47, 10, 37, 34, 51], [40, 43, 45, 39, 24, 47, 10, 37, 34, 51, 52], [43, 45, 39, 24, 47, 10, 37, 34, 51, 52, 50], [45, 39, 24, 47, 10, 37, 34, 51, 52, 50, 6], [39, 24, 47, 10, 37, 34, 51, 52, 50, 6, 7], [24, 47, 10, 37, 34, 51, 52, 50, 6, 7, 7], [47, 10, 37, 34, 51, 52, 50, 6, 7, 7, 14], [10, 37, 34, 51, 52, 50, 6, 7, 7, 14, 1], [37, 34, 51, 52, 50, 6, 7, 7, 14, 1, 50], [34, 51, 52, 50, 6, 7, 7, 14, 1, 50, 39], [51, 52, 50, 6, 7, 7, 14, 1, 50, 39, 52], [52, 50, 6, 7, 7, 14, 1, 50, 39, 52, 53], [50, 6, 7, 7, 14, 1, 50, 39, 52, 53, 50], [6, 7, 7, 14, 1, 50, 39, 52, 53, 50, 47], [7, 7, 14, 1, 50, 39, 52, 53, 50, 47, 14], [7, 14, 1, 50, 39, 52, 53, 50, 47, 14, 1], [14, 1, 50, 39, 52, 53, 50, 47, 14, 1, 60], [1, 50, 39, 52, 53, 50, 47, 14, 1, 60, 1], [50, 39, 52, 53, 50, 47, 14, 1, 60, 1, 51], [39, 52, 53, 50, 47, 14, 1, 60, 1, 51, 52], [52, 53, 50, 47, 14, 1, 60, 1, 51, 52, 50], [53, 50, 47, 14, 1, 60, 1, 51, 52, 50, 43], [50, 47, 14, 1, 60, 1, 51, 52, 50, 43, 47], [47, 14, 1, 60, 1, 51, 52, 50, 43, 47, 41], [14, 1, 60, 1, 51, 52, 50, 43, 47, 41, 1], [1, 60, 1, 51, 52, 50, 43, 47, 41, 1, 40], [60, 1, 51, 52, 50, 43, 47, 41, 1, 40, 43], [1, 51, 52, 50, 43, 47, 41, 1, 40, 43, 45], [51, 52, 50, 43, 47, 41, 1, 40, 43, 45, 39], [52, 50, 43, 47, 41, 1, 40, 43, 45, 39, 28], [50, 43, 47, 41, 1, 40, 43, 45, 39, 28, 53], [43, 47, 41, 1, 40, 43, 45, 39, 28, 53, 52], [47, 41, 1, 40, 43, 45, 39, 28, 53, 52, 14], [41, 1, 40, 43, 45, 39, 28, 53, 52, 14, 1], [1, 40, 43, 45, 39, 28, 53, 52, 14, 1, 11], [40, 43, 45, 39, 28, 53, 52, 14, 1, 11, 11], [43, 45, 39, 28, 53, 52, 14, 1, 11, 11, 1], [45, 39, 28, 53, 52, 14, 1, 11, 11, 1, 41], [39, 28, 53, 52, 14, 1, 11, 11, 1, 41, 39], [28, 53, 52, 14, 1, 11, 11, 1, 41, 39, 47], [53, 52, 14, 1, 11, 11, 1, 41, 39, 47, 39], [52, 14, 1, 11, 11, 1, 41, 39, 47, 39, 50], [14, 1, 11, 11, 1, 41, 39, 47, 39, 50, 35], [1, 11, 11, 1, 41, 39, 47, 39, 50, 35, 52], [11, 11, 1, 41, 39, 47, 39, 50, 35, 52, 39], [11, 1, 41, 39, 47, 39, 50, 35, 52, 39, 1], [1, 41, 39, 47, 39, 50, 35, 52, 39, 1, 48], [41, 39, 47, 39, 50, 35, 52, 39, 1, 48, 53], [39, 47, 39, 50, 35, 52, 39, 1, 48, 53, 52], [47, 39, 50, 35, 52, 39, 1, 48, 53, 52, 49], [39, 50, 35, 52, 39, 1, 48, 53, 52, 49, 53], [50, 35, 52, 39, 1, 48, 53, 52, 49, 53, 52], [35, 52, 39, 1, 48, 53, 52, 49, 53, 52, 1], [52, 39, 1, 48, 53, 52, 49, 53, 52, 1, 40], [39, 1, 48, 53, 52, 49, 53, 52, 1, 40, 43], [1, 48, 53, 52, 49, 53, 52, 1, 40, 43, 45], [48, 53, 52, 49, 53, 52, 1, 40, 43, 45, 39], [53, 52, 49, 53, 52, 1, 40, 43, 45, 39, 47], [52, 49, 53, 52, 1, 40, 43, 45, 39, 47, 35], [49, 53, 52, 1, 40, 43, 45, 39, 47, 35, 46], [53, 52, 1, 40, 43, 45, 39, 47, 35, 46, 39], [52, 1, 40, 43, 45, 39, 47, 35, 46, 39, 1], [1, 40, 43, 45, 39, 47, 35, 46, 39, 1, 35], [40, 43, 45, 39, 47, 35, 46, 39, 1, 35, 53], [43, 45, 39, 47, 35, 46, 39, 1, 35, 53, 52], [45, 39, 47, 35, 46, 39, 1, 35, 53, 52, 48], [39, 47, 35, 46, 39, 1, 35, 53, 52, 48, 1], [47, 35, 46, 39, 1, 35, 53, 52, 48, 1, 49], [35, 46, 39, 1, 35, 53, 52, 48, 1, 49, 48], [46, 39, 1, 35, 53, 52, 48, 1, 49, 48, 51], [39, 1, 35, 53, 52, 48, 1, 49, 48, 51, 1], [1, 35, 53, 52, 48, 1, 49, 48, 51, 1, 16], [35, 53, 52, 48, 1, 49, 48, 51, 1, 16, 1], [53, 52, 48, 1, 49, 48, 51, 1, 16, 1, 40], [52, 48, 1, 49, 48, 51, 1, 16, 1, 40, 43], [48, 1, 49, 48, 51, 1, 16, 1, 40, 43, 45], [1, 49, 48, 51, 1, 16, 1, 40, 43, 45, 39], [49, 48, 51, 1, 16, 1, 40, 43, 45, 39, 24], [48, 51, 1, 16, 1, 40, 43, 45, 39, 24, 47], [51, 1, 16, 1, 40, 43, 45, 39, 24, 47, 10], [1, 16, 1, 40, 43, 45, 39, 24, 47, 10, 40], [16, 1, 40, 43, 45, 39, 24, 47, 10, 40, 43], [1, 40, 43, 45, 39, 24, 47, 10, 40, 43, 47], [40, 43, 45, 39, 24, 47, 10, 40, 43, 47, 38], [43, 45, 39, 24, 47, 10, 40, 43, 47, 38, 34], [45, 39, 24, 47, 10, 40, 43, 47, 38, 34, 45], [39, 24, 47, 10, 40, 43, 47, 38, 34, 45, 35], [24, 47, 10, 40, 43, 47, 38, 34, 45, 35, 51], [47, 10, 40, 43, 47, 38, 34, 45, 35, 51, 52], [10, 40, 43, 47, 38, 34, 45, 35, 51, 52, 34], [40, 43, 47, 38, 34, 45, 35, 51, 52, 34, 48], [43, 47, 38, 34, 45, 35, 51, 52, 34, 48, 40], [47, 38, 34, 45, 35, 51, 52, 34, 48, 40, 6], [38, 34, 45, 35, 51, 52, 34, 48, 40, 6, 5], [34, 45, 35, 51, 52, 34, 48, 40, 6, 5, 10], [45, 35, 51, 52, 34, 48, 40, 6, 5, 10, 5], [35, 51, 52, 34, 48, 40, 6, 5, 10, 5, 7], [51, 52, 34, 48, 40, 6, 5, 10, 5, 7, 14], [52, 34, 48, 40, 6, 5, 10, 5, 7, 14, 1], [34, 48, 40, 6, 5, 10, 5, 7, 14, 1, 43], [48, 40, 6, 5, 10, 5, 7, 14, 1, 43, 40], [40, 6, 5, 10, 5, 7, 14, 1, 43, 40, 1], [6, 5, 10, 5, 7, 14, 1, 43, 40, 1, 6], [5, 10, 5, 7, 14, 1, 43, 40, 1, 6, 49], [10, 5, 7, 14, 1, 43, 40, 1, 6, 49, 48], [5, 7, 14, 1, 43, 40, 1, 6, 49, 48, 51], [7, 14, 1, 43, 40, 1, 6, 49, 48, 51, 1], [14, 1, 43, 40, 1, 6, 49, 48, 51, 1, 2], [1, 43, 40, 1, 6, 49, 48, 51, 1, 2, 16], [43, 40, 1, 6, 49, 48, 51, 1, 2, 16, 1], [40, 1, 6, 49, 48, 51, 1, 2, 16, 1, 51], [1, 6, 49, 48, 51, 1, 2, 16, 1, 51, 52], [6, 49, 48, 51, 1, 2, 16, 1, 51, 52, 50], [49, 48, 51, 1, 2, 16, 1, 51, 52, 50, 43], [48, 51, 1, 2, 16, 1, 51, 52, 50, 43, 47], [51, 1, 2, 16, 1, 51, 52, 50, 43, 47, 41], [1, 2, 16, 1, 51, 52, 50, 43, 47, 41, 13], [2, 16, 1, 51, 52, 50, 43, 47, 41, 13, 13], [16, 1, 51, 52, 50, 43, 47, 41, 13, 13, 47], [1, 51, 52, 50, 43, 47, 41, 13, 13, 47, 49], [51, 52, 50, 43, 47, 41, 13, 13, 47, 49, 48], [52, 50, 43, 47, 41, 13, 13, 47, 49, 48, 51], [50, 43, 47, 41, 13, 13, 47, 49, 48, 51, 7], [43, 47, 41, 13, 13, 47, 49, 48, 51, 7, 1], [47, 41, 13, 13, 47, 49, 48, 51, 7, 1, 58], [41, 13, 13, 47, 49, 48, 51, 7, 1, 58, 1], [13, 13, 47, 49, 48, 51, 7, 1, 58, 1, 40], [13, 47, 49, 48, 51, 7, 1, 58, 1, 40, 43], [47, 49, 48, 51, 7, 1, 58, 1, 40, 43, 45], [49, 48, 51, 7, 1, 58, 1, 40, 43, 45, 39], [48, 51, 7, 1, 58, 1, 40, 43, 45, 39, 28], [51, 7, 1, 58, 1, 40, 43, 45, 39, 28, 53], [7, 1, 58, 1, 40, 43, 45, 39, 28, 53, 52], [1, 58, 1, 40, 43, 45, 39, 28, 53, 52, 1], [58, 1, 40, 43, 45, 39, 28, 53, 52, 1, 16], [1, 40, 43, 45, 39, 28, 53, 52, 1, 16, 1], [40, 43, 45, 39, 28, 53, 52, 1, 16, 1, 40], [43, 45, 39, 28, 53, 52, 1, 16, 1, 40, 43], [45, 39, 28, 53, 52, 1, 16, 1, 40, 43, 45], [39, 28, 53, 52, 1, 16, 1, 40, 43, 45, 39], [28, 53, 52, 1, 16, 1, 40, 43, 45, 39, 24], [53, 52, 1, 16, 1, 40, 43, 45, 39, 24, 47], [52, 1, 16, 1, 40, 43, 45, 39, 24, 47, 10], [1, 16, 1, 40, 43, 45, 39, 24, 47, 10, 51], [16, 1, 40, 43, 45, 39, 24, 47, 10, 51, 53], [1, 40, 43, 45, 39, 24, 47, 10, 51, 53, 36], [40, 43, 45, 39, 24, 47, 10, 51, 53, 36, 51], [43, 45, 39, 24, 47, 10, 51, 53, 36, 51, 52], [45, 39, 24, 47, 10, 51, 53, 36, 51, 52, 50], [39, 24, 47, 10, 51, 53, 36, 51, 52, 50, 6], [24, 47, 10, 51, 53, 36, 51, 52, 50, 6, 12], [47, 10, 51, 53, 36, 51, 52, 50, 6, 12, 8], [10, 51, 53, 36, 51, 52, 50, 6, 12, 8, 1], [51, 53, 36, 51, 52, 50, 6, 12, 8, 1, 49], [53, 36, 51, 52, 50, 6, 12, 8, 1, 49, 48], [36, 51, 52, 50, 6, 12, 8, 1, 49, 48, 51], [51, 52, 50, 6, 12, 8, 1, 49, 48, 51, 7], [52, 50, 6, 12, 8, 1, 49, 48, 51, 7, 14], [50, 6, 12, 8, 1, 49, 48, 51, 7, 14, 1], [6, 12, 8, 1, 49, 48, 51, 7, 14, 1, 60], [12, 8, 1, 49, 48, 51, 7, 14, 1, 60, 1], [8, 1, 49, 48, 51, 7, 14, 1, 60, 1, 11], [1, 49, 48, 51, 7, 14, 1, 60, 1, 11, 11], [49, 48, 51, 7, 14, 1, 60, 1, 11, 11, 1], [48, 51, 7, 14, 1, 60, 1, 11, 11, 1, 37], [51, 7, 14, 1, 60, 1, 11, 11, 1, 37, 50], [7, 14, 1, 60, 1, 11, 11, 1, 37, 50, 39], [14, 1, 60, 1, 11, 11, 1, 37, 50, 39, 35], [1, 60, 1, 11, 11, 1, 37, 50, 39, 35, 52], [60, 1, 11, 11, 1, 37, 50, 39, 35, 52, 39], [1, 11, 11, 1, 37, 50, 39, 35, 52, 39, 1], [11, 11, 1, 37, 50, 39, 35, 52, 39, 1, 51], [11, 1, 37, 50, 39, 35, 52, 39, 1, 51, 52], [1, 37, 50, 39, 35, 52, 39, 1, 51, 52, 50], [37, 50, 39, 35, 52, 39, 1, 51, 52, 50, 39], [50, 39, 35, 52, 39, 1, 51, 52, 50, 39, 35], [39, 35, 52, 39, 1, 51, 52, 50, 39, 35, 46], [35, 52, 39, 1, 51, 52, 50, 39, 35, 46, 51], [52, 39, 1, 51, 52, 50, 39, 35, 46, 51, 1], [39, 1, 51, 52, 50, 39, 35, 46, 51, 1, 35], [1, 51, 52, 50, 39, 35, 46, 51, 1, 35, 53], [51, 52, 50, 39, 35, 46, 51, 1, 35, 53, 52], [52, 50, 39, 35, 46, 51, 1, 35, 53, 52, 48], [50, 39, 35, 46, 51, 1, 35, 53, 52, 48, 1], [39, 35, 46, 51, 1, 35, 53, 52, 48, 1, 48], [35, 46, 51, 1, 35, 53, 52, 48, 1, 48, 53], [46, 51, 1, 35, 53, 52, 48, 1, 48, 53, 52], [51, 1, 35, 53, 52, 48, 1, 48, 53, 52, 22], [1, 35, 53, 52, 48, 1, 48, 53, 52, 22, 43], [35, 53, 52, 48, 1, 48, 53, 52, 22, 43, 45], [53, 52, 48, 1, 48, 53, 52, 22, 43, 45, 39], [52, 48, 1, 48, 53, 52, 22, 43, 45, 39, 1], [48, 1, 48, 53, 52, 22, 43, 45, 39, 1, 16], [1, 48, 53, 52, 22, 43, 45, 39, 1, 16, 1], [48, 53, 52, 22, 43, 45, 39, 1, 16, 1, 46], [53, 52, 22, 43, 45, 39, 1, 16, 1, 46, 35], [52, 22, 43, 45, 39, 1, 16, 1, 46, 35, 44], [22, 43, 45, 39, 1, 16, 1, 46, 35, 44, 39], [43, 45, 39, 1, 16, 1, 46, 35, 44, 39, 34], [45, 39, 1, 16, 1, 46, 35, 44, 39, 34, 51], [39, 1, 16, 1, 46, 35, 44, 39, 34, 51, 42], [1, 16, 1, 46, 35, 44, 39, 34, 51, 42, 35], [16, 1, 46, 35, 44, 39, 34, 51, 42, 35, 50], [1, 46, 35, 44, 39, 34, 51, 42, 35, 50, 39], [46, 35, 44, 39, 34, 51, 42, 35, 50, 39, 38], [35, 44, 39, 34, 51, 42, 35, 50, 39, 38, 15], [44, 39, 34, 51, 42, 35, 50, 39, 38, 15, 40], [39, 34, 51, 42, 35, 50, 39, 38, 15, 40, 51], [34, 51, 42, 35, 50, 39, 38, 15, 40, 51, 52], [51, 42, 35, 50, 39, 38, 15, 40, 51, 52, 50], [42, 35, 50, 39, 38, 15, 40, 51, 52, 50, 39], [35, 50, 39, 38, 15, 40, 51, 52, 50, 39, 35], [50, 39, 38, 15, 40, 51, 52, 50, 39, 35, 46], [39, 38, 15, 40, 51, 52, 50, 39, 35, 46, 17], [38, 15, 40, 51, 52, 50, 39, 35, 46, 17, 6], [15, 40, 51, 52, 50, 39, 35, 46, 17, 6, 1], [40, 51, 52, 50, 39, 35, 46, 17, 6, 1, 40], [51, 52, 50, 39, 35, 46, 17, 6, 1, 40, 43], [52, 50, 39, 35, 46, 17, 6, 1, 40, 43, 45], [50, 39, 35, 46, 17, 6, 1, 40, 43, 45, 39], [39, 35, 46, 17, 6, 1, 40, 43, 45, 39, 28], [35, 46, 17, 6, 1, 40, 43, 45, 39, 28, 53], [46, 17, 6, 1, 40, 43, 45, 39, 28, 53, 52], [17, 6, 1, 40, 43, 45, 39, 28, 53, 52, 8], [6, 1, 40, 43, 45, 39, 28, 53, 52, 8, 1], [1, 40, 43, 45, 39, 28, 53, 52, 8, 1, 43], [40, 43, 45, 39, 28, 53, 52, 8, 1, 43, 48], [43, 45, 39, 28, 53, 52, 8, 1, 43, 48, 51], [45, 39, 28, 53, 52, 8, 1, 43, 48, 51, 34], [39, 28, 53, 52, 8, 1, 43, 48, 51, 34, 36], [28, 53, 52, 8, 1, 43, 48, 51, 34, 36, 35], [53, 52, 8, 1, 43, 48, 51, 34, 36, 35, 51], [52, 8, 1, 43, 48, 51, 34, 36, 35, 51, 39], [8, 1, 43, 48, 51, 34, 36, 35, 51, 39, 13], [1, 43, 48, 51, 34, 36, 35, 51, 39, 13, 13], [43, 48, 51, 34, 36, 35, 51, 39, 13, 13, 43], [48, 51, 34, 36, 35, 51, 39, 13, 13, 43, 47], [51, 34, 36, 35, 51, 39, 13, 13, 43, 47, 1], [34, 36, 35, 51, 39, 13, 13, 43, 47, 1, 59], [36, 35, 51, 39, 13, 13, 43, 47, 1, 59, 1], [35, 51, 39, 13, 13, 43, 47, 1, 59, 1, 43], [51, 39, 13, 13, 43, 47, 1, 59, 1, 43, 48], [39, 13, 13, 43, 47, 1, 59, 1, 43, 48, 51], [13, 13, 43, 47, 1, 59, 1, 43, 48, 51, 34], [13, 43, 47, 1, 59, 1, 43, 48, 51, 34, 36], [43, 47, 1, 59, 1, 43, 48, 51, 34, 36, 35], [47, 1, 59, 1, 43, 48, 51, 34, 36, 35, 51], [1, 59, 1, 43, 48, 51, 34, 36, 35, 51, 39], [59, 1, 43, 48, 51, 34, 36, 35, 51, 39, 13], [1, 43, 48, 51, 34, 36, 35, 51, 39, 13, 13], [43, 48, 51, 34, 36, 35, 51, 39, 13, 13, 48], [48, 51, 34, 36, 35, 51, 39, 13, 13, 48, 53], [51, 34, 36, 35, 51, 39, 13, 13, 48, 53, 52], [34, 36, 35, 51, 39, 13, 13, 48, 53, 52, 1], [36, 35, 51, 39, 13, 13, 48, 53, 52, 1, 59], [35, 51, 39, 13, 13, 48, 53, 52, 1, 59, 1], [51, 39, 13, 13, 48, 53, 52, 1, 59, 1, 43], [39, 13, 13, 48, 53, 52, 1, 59, 1, 43, 48], [13, 13, 48, 53, 52, 1, 59, 1, 43, 48, 51], [13, 48, 53, 52, 1, 59, 1, 43, 48, 51, 34], [48, 53, 52, 1, 59, 1, 43, 48, 51, 34, 36], [53, 52, 1, 59, 1, 43, 48, 51, 34, 36, 35], [52, 1, 59, 1, 43, 48, 51, 34, 36, 35, 51], [1, 59, 1, 43, 48, 51, 34, 36, 35, 51, 39], [59, 1, 43, 48, 51, 34, 36, 35, 51, 39, 13], [1, 43, 48, 51, 34, 36, 35, 51, 39, 13, 13], [43, 48, 51, 34, 36, 35, 51, 39, 13, 13, 52], [48, 51, 34, 36, 35, 51, 39, 13, 13, 52, 50], [51, 34, 36, 35, 51, 39, 13, 13, 52, 50, 53], [34, 36, 35, 51, 39, 13, 13, 52, 50, 53, 47], [36, 35, 51, 39, 13, 13, 52, 50, 53, 47, 37], [35, 51, 39, 13, 13, 52, 50, 53, 47, 37, 1], [51, 39, 13, 13, 52, 50, 53, 47, 37, 1, 59], [39, 13, 13, 52, 50, 53, 47, 37, 1, 59, 1], [13, 13, 52, 50, 53, 47, 37, 1, 59, 1, 43], [13, 52, 50, 53, 47, 37, 1, 59, 1, 43, 48], [52, 50, 53, 47, 37, 1, 59, 1, 43, 48, 51], [50, 53, 47, 37, 1, 59, 1, 43, 48, 51, 34], [53, 47, 37, 1, 59, 1, 43, 48, 51, 34, 36], [47, 37, 1, 59, 1, 43, 48, 51, 34, 36, 35], [37, 1, 59, 1, 43, 48, 51, 34, 36, 35, 51], [1, 59, 1, 43, 48, 51, 34, 36, 35, 51, 39], [59, 1, 43, 48, 51, 34, 36, 35, 51, 39, 13], [1, 43, 48, 51, 34, 36, 35, 51, 39, 13, 13], [43, 48, 51, 34, 36, 35, 51, 39, 13, 13, 36], [48, 51, 34, 36, 35, 51, 39, 13, 13, 36, 43], [51, 34, 36, 35, 51, 39, 13, 13, 36, 43, 47], [34, 36, 35, 51, 39, 13, 13, 36, 43, 47, 35], [36, 35, 51, 39, 13, 13, 36, 43, 47, 35, 50], [35, 51, 39, 13, 13, 36, 43, 47, 35, 50, 57], [51, 39, 13, 13, 36, 43, 47, 35, 50, 57, 7], [39, 13, 13, 36, 43, 47, 35, 50, 57, 7, 14], [13, 13, 36, 43, 47, 35, 50, 57, 7, 14, 1], [13, 36, 43, 47, 35, 50, 57, 7, 14, 1, 43], [36, 43, 47, 35, 50, 57, 7, 14, 1, 43, 40], [43, 47, 35, 50, 57, 7, 14, 1, 43, 40, 1], [47, 35, 50, 57, 7, 14, 1, 43, 40, 1, 6], [35, 50, 57, 7, 14, 1, 43, 40, 1, 6, 2], [50, 57, 7, 14, 1, 43, 40, 1, 6, 2, 48], [57, 7, 14, 1, 43, 40, 1, 6, 2, 48, 53], [7, 14, 1, 43, 40, 1, 6, 2, 48, 53, 52], [14, 1, 43, 40, 1, 6, 2, 48, 53, 52, 22], [1, 43, 40, 1, 6, 2, 48, 53, 52, 22, 43], [43, 40, 1, 6, 2, 48, 53, 52, 22, 43, 45], [40, 1, 6, 2, 48, 53, 52, 22, 43, 45, 39], [1, 6, 2, 48, 53, 52, 22, 43, 45, 39, 9], [6, 2, 48, 53, 52, 22, 43, 45, 39, 9, 17], [2, 48, 53, 52, 22, 43, 45, 39, 9, 17, 43], [48, 53, 52, 22, 43, 45, 39, 9, 17, 43, 51], [53, 52, 22, 43, 45, 39, 9, 17, 43, 51, 34], [52, 22, 43, 45, 39, 9, 17, 43, 51, 34, 48], [22, 43, 45, 39, 9, 17, 43, 51, 34, 48, 49], [43, 45, 39, 9, 17, 43, 51, 34, 48, 49, 39], [45, 39, 9, 17, 43, 51, 34, 48, 49, 39, 47], [39, 9, 17, 43, 51, 34, 48, 49, 39, 47, 6], [9, 17, 43, 51, 34, 48, 49, 39, 47, 6, 7], [17, 43, 51, 34, 48, 49, 39, 47, 6, 7, 7], [43, 51, 34, 48, 49, 39, 47, 6, 7, 7, 1], [51, 34, 48, 49, 39, 47, 6, 7, 7, 1, 58], [34, 48, 49, 39, 47, 6, 7, 7, 1, 58, 1], [48, 49, 39, 47, 6, 7, 7, 1, 58, 1, 18], [49, 39, 47, 6, 7, 7, 1, 58, 1, 18, 38], [39, 47, 6, 7, 7, 1, 58, 1, 18, 38, 38], [47, 6, 7, 7, 1, 58, 1, 18, 38, 38, 26], [6, 7, 7, 1, 58, 1, 18, 38, 38, 26, 48], [7, 7, 1, 58, 1, 18, 38, 38, 26, 48, 41], [7, 1, 58, 1, 18, 38, 38, 26, 48, 41, 6], [1, 58, 1, 18, 38, 38, 26, 48, 41, 6, 3], [58, 1, 18, 38, 38, 26, 48, 41, 6, 3, 21], [1, 18, 38, 38, 26, 48, 41, 6, 3, 21, 30], [18, 38, 38, 26, 48, 41, 6, 3, 21, 30, 30], [38, 38, 26, 48, 41, 6, 3, 21, 30, 30, 28], [38, 26, 48, 41, 6, 3, 21, 30, 30, 28, 30], [26, 48, 41, 6, 3, 21, 30, 30, 28, 30, 13], [48, 41, 6, 3, 21, 30, 30, 28, 30, 13, 1], [41, 6, 3, 21, 30, 30, 28, 30, 13, 1, 22], [6, 3, 21, 30, 30, 28, 30, 13, 1, 22, 35], [3, 21, 30, 30, 28, 30, 13, 1, 22, 35, 43], [21, 30, 30, 28, 30, 13, 1, 22, 35, 43, 45], [30, 30, 28, 30, 13, 1, 22, 35, 43, 45, 39], [30, 28, 30, 13, 1, 22, 35, 43, 45, 39, 38], [28, 30, 13, 1, 22, 35, 43, 45, 39, 38, 1], [30, 13, 1, 22, 35, 43, 45, 39, 38, 1, 52], [13, 1, 22, 35, 43, 45, 39, 38, 1, 52, 48], [1, 22, 35, 43, 45, 39, 38, 1, 52, 48, 1], [22, 35, 43, 45, 39, 38, 1, 52, 48, 1, 48], [35, 43, 45, 39, 38, 1, 52, 48, 1, 48, 49], [43, 45, 39, 38, 1, 52, 48, 1, 48, 49, 39], [45, 39, 38, 1, 52, 48, 1, 48, 49, 39, 47], [39, 38, 1, 52, 48, 1, 48, 49, 39, 47, 1], [38, 1, 52, 48, 1, 48, 49, 39, 47, 1, 3], [1, 52, 48, 1, 48, 49, 39, 47, 1, 3, 8], [52, 48, 1, 48, 49, 39, 47, 1, 3, 8, 1], [48, 1, 48, 49, 39, 47, 1, 3, 8, 1, 40], [1, 48, 49, 39, 47, 1, 3, 8, 1, 40, 43], [48, 49, 39, 47, 1, 3, 8, 1, 40, 43, 45], [49, 39, 47, 1, 3, 8, 1, 40, 43, 45, 39], [39, 47, 1, 3, 8, 1, 40, 43, 45, 39, 28], [47, 1, 3, 8, 1, 40, 43, 45, 39, 28, 53], [1, 3, 8, 1, 40, 43, 45, 39, 28, 53, 52], [3, 8, 1, 40, 43, 45, 39, 28, 53, 52, 10], [8, 1, 40, 43, 45, 39, 28, 53, 52, 10, 37], [1, 40, 43, 45, 39, 28, 53, 52, 10, 37, 34], [40, 43, 45, 39, 28, 53, 52, 10, 37, 34, 51], [43, 45, 39, 28, 53, 52, 10, 37, 34, 51, 52], [45, 39, 28, 53, 52, 10, 37, 34, 51, 52, 50], [39, 28, 53, 52, 10, 37, 34, 51, 52, 50, 6], [28, 53, 52, 10, 37, 34, 51, 52, 50, 6, 7], [53, 52, 10, 37, 34, 51, 52, 50, 6, 7, 7], [52, 10, 37, 34, 51, 52, 50, 6, 7, 7, 14], [10, 37, 34, 51, 52, 50, 6, 7, 7, 14, 1], [37, 34, 51, 52, 50, 6, 7, 7, 14, 1, 50], [34, 51, 52, 50, 6, 7, 7, 14, 1, 50, 39], [51, 52, 50, 6, 7, 7, 14, 1, 50, 39, 52], [52, 50, 6, 7, 7, 14, 1, 50, 39, 52, 53], [50, 6, 7, 7, 14, 1, 50, 39, 52, 53, 50], [6, 7, 7, 14, 1, 50, 39, 52, 53, 50, 47], [7, 7, 14, 1, 50, 39, 52, 53, 50, 47, 14], [7, 14, 1, 50, 39, 52, 53, 50, 47, 14, 1], [14, 1, 50, 39, 52, 53, 50, 47, 14, 1, 60], [1, 50, 39, 52, 53, 50, 47, 14, 1, 60, 1], [50, 39, 52, 53, 50, 47, 14, 1, 60, 1, 52], [39, 52, 53, 50, 47, 14, 1, 60, 1, 52, 50], [52, 53, 50, 47, 14, 1, 60, 1, 52, 50, 57], [53, 50, 47, 14, 1, 60, 1, 52, 50, 57, 1], [50, 47, 14, 1, 60, 1, 52, 50, 57, 1, 58], [47, 14, 1, 60, 1, 52, 50, 57, 1, 58, 1], [14, 1, 60, 1, 52, 50, 57, 1, 58, 1, 11], [1, 60, 1, 52, 50, 57, 1, 58, 1, 11, 11], [60, 1, 52, 50, 57, 1, 58, 1, 11, 11, 1], [1, 52, 50, 57, 1, 58, 1, 11, 11, 1, 37], [52, 50, 57, 1, 58, 1, 11, 11, 1, 37, 50], [50, 57, 1, 58, 1, 11, 11, 1, 37, 50, 39], [57, 1, 58, 1, 11, 11, 1, 37, 50, 39, 35], [1, 58, 1, 11, 11, 1, 37, 50, 39, 35, 52], [58, 1, 11, 11, 1, 37, 50, 39, 35, 52, 39], [1, 11, 11, 1, 37, 50, 39, 35, 52, 39, 1], [11, 11, 1, 37, 50, 39, 35, 52, 39, 1, 35], [11, 1, 37, 50, 39, 35, 52, 39, 1, 35, 53], [1, 37, 50, 39, 35, 52, 39, 1, 35, 53, 52], [37, 50, 39, 35, 52, 39, 1, 35, 53, 52, 42], [50, 39, 35, 52, 39, 1, 35, 53, 52, 42, 39], [39, 35, 52, 39, 1, 35, 53, 52, 42, 39, 47], [35, 52, 39, 1, 35, 53, 52, 42, 39, 47, 52], [52, 39, 1, 35, 53, 52, 42, 39, 47, 52, 43], [39, 1, 35, 53, 52, 42, 39, 47, 52, 43, 37], [1, 35, 53, 52, 42, 39, 47, 52, 43, 37, 35], [35, 53, 52, 42, 39, 47, 52, 43, 37, 35, 52], [53, 52, 42, 39, 47, 52, 43, 37, 35, 52, 43], [52, 42, 39, 47, 52, 43, 37, 35, 52, 43, 48], [42, 39, 47, 52, 43, 37, 35, 52, 43, 48, 47], [39, 47, 52, 43, 37, 35, 52, 43, 48, 47, 1], [47, 52, 43, 37, 35, 52, 43, 48, 47, 1, 37], [52, 43, 37, 35, 52, 43, 48, 47, 1, 37, 48], [43, 37, 35, 52, 43, 48, 47, 1, 37, 48, 47], [37, 35, 52, 43, 48, 47, 1, 37, 48, 47, 52], [35, 52, 43, 48, 47, 1, 37, 48, 47, 52, 39], [52, 43, 48, 47, 1, 37, 48, 47, 52, 39, 56], [43, 48, 47, 1, 37, 48, 47, 52, 39, 56, 52], [48, 47, 1, 37, 48, 47, 52, 39, 56, 52, 1], [47, 1, 37, 48, 47, 52, 39, 56, 52, 1, 18], [1, 37, 48, 47, 52, 39, 56, 52, 1, 18, 53], [37, 48, 47, 52, 39, 56, 52, 1, 18, 53, 52], [48, 47, 52, 39, 56, 52, 1, 18, 53, 52, 42], [47, 52, 39, 56, 52, 1, 18, 53, 52, 42, 19], [52, 39, 56, 52, 1, 18, 53, 52, 42, 19, 35], [39, 56, 52, 1, 18, 53, 52, 42, 19, 35, 45], [56, 52, 1, 18, 53, 52, 42, 19, 35, 45, 45], [52, 1, 18, 53, 52, 42, 19, 35, 45, 45, 36], [1, 18, 53, 52, 42, 19, 35, 45, 45, 36, 35], [18, 53, 52, 42, 19, 35, 45, 45, 36, 35, 37], [53, 52, 42, 19, 35, 45, 45, 36, 35, 37, 44], [52, 42, 19, 35, 45, 45, 36, 35, 37, 44, 1], [42, 19, 35, 45, 45, 36, 35, 37, 44, 1, 35], [19, 35, 45, 45, 36, 35, 37, 44, 1, 35, 53], [35, 45, 45, 36, 35, 37, 44, 1, 35, 53, 52], [45, 45, 36, 35, 37, 44, 1, 35, 53, 52, 42], [45, 36, 35, 37, 44, 1, 35, 53, 52, 42, 6], [36, 35, 37, 44, 1, 35, 53, 52, 42, 6, 37], [35, 37, 44, 1, 35, 53, 52, 42, 6, 37, 45], [37, 44, 1, 35, 53, 52, 42, 6, 37, 45, 43], [44, 1, 35, 53, 52, 42, 6, 37, 45, 43, 39], [1, 35, 53, 52, 42, 6, 37, 45, 43, 39, 47], [35, 53, 52, 42, 6, 37, 45, 43, 39, 47, 52], [53, 52, 42, 6, 37, 45, 43, 39, 47, 52, 24], [52, 42, 6, 37, 45, 43, 39, 47, 52, 24, 38], [42, 6, 37, 45, 43, 39, 47, 52, 24, 38, 8], [6, 37, 45, 43, 39, 47, 52, 24, 38, 8, 1], [37, 45, 43, 39, 47, 52, 24, 38, 8, 1, 50], [45, 43, 39, 47, 52, 24, 38, 8, 1, 50, 39], [43, 39, 47, 52, 24, 38, 8, 1, 50, 39, 38], [39, 47, 52, 24, 38, 8, 1, 50, 39, 38, 43], [47, 52, 24, 38, 8, 1, 50, 39, 38, 43, 50], [52, 24, 38, 8, 1, 50, 39, 38, 43, 50, 39], [24, 38, 8, 1, 50, 39, 38, 43, 50, 39, 37], [38, 8, 1, 50, 39, 38, 43, 50, 39, 37, 52], [8, 1, 50, 39, 38, 43, 50, 39, 37, 52, 32], [1, 50, 39, 38, 43, 50, 39, 37, 52, 32, 50], [50, 39, 38, 43, 50, 39, 37, 52, 32, 50, 45], [39, 38, 43, 50, 39, 37, 52, 32, 50, 45, 7], [38, 43, 50, 39, 37, 52, 32, 50, 45, 7, 14], [43, 50, 39, 37, 52, 32, 50, 45, 7, 14, 1], [50, 39, 37, 52, 32, 50, 45, 7, 14, 1, 11], [39, 37, 52, 32, 50, 45, 7, 14, 1, 11, 11], [37, 52, 32, 50, 45, 7, 14, 1, 11, 11, 1], [52, 32, 50, 45, 7, 14, 1, 11, 11, 1, 49], [32, 50, 45, 7, 14, 1, 11, 11, 1, 49, 50], [50, 45, 7, 14, 1, 11, 11, 1, 49, 50, 48], [45, 7, 14, 1, 11, 11, 1, 49, 50, 48, 37], [7, 14, 1, 11, 11, 1, 49, 50, 48, 37, 39], [14, 1, 11, 11, 1, 49, 50, 48, 37, 39, 51], [1, 11, 11, 1, 49, 50, 48, 37, 39, 51, 51], [11, 11, 1, 49, 50, 48, 37, 39, 51, 51, 1], [11, 1, 49, 50, 48, 37, 39, 51, 51, 1, 37], [1, 49, 50, 48, 37, 39, 51, 51, 1, 37, 48], [49, 50, 48, 37, 39, 51, 51, 1, 37, 48, 47], [50, 48, 37, 39, 51, 51, 1, 37, 48, 47, 54], [48, 37, 39, 51, 51, 1, 37, 48, 47, 54, 39], [37, 39, 51, 51, 1, 37, 48, 47, 54, 39, 50], [39, 51, 51, 1, 37, 48, 47, 54, 39, 50, 51], [51, 51, 1, 37, 48, 47, 54, 39, 50, 51, 43], [51, 1, 37, 48, 47, 54, 39, 50, 51, 43, 48], [1, 37, 48, 47, 54, 39, 50, 51, 43, 48, 47], [37, 48, 47, 54, 39, 50, 51, 43, 48, 47, 1], [48, 47, 54, 39, 50, 51, 43, 48, 47, 1, 35], [47, 54, 39, 50, 51, 43, 48, 47, 1, 35, 53], [54, 39, 50, 51, 43, 48, 47, 1, 35, 53, 52], [39, 50, 51, 43, 48, 47, 1, 35, 53, 52, 48], [50, 51, 43, 48, 47, 1, 35, 53, 52, 48, 1], [51, 43, 48, 47, 1, 35, 53, 52, 48, 1, 49], [43, 48, 47, 1, 35, 53, 52, 48, 1, 49, 40], [48, 47, 1, 35, 53, 52, 48, 1, 49, 40, 51], [47, 1, 35, 53, 52, 48, 1, 49, 40, 51, 1], [1, 35, 53, 52, 48, 1, 49, 40, 51, 1, 16], [35, 53, 52, 48, 1, 49, 40, 51, 1, 16, 1], [53, 52, 48, 1, 49, 40, 51, 1, 16, 1, 29], [52, 48, 1, 49, 40, 51, 1, 16, 1, 29, 22], [48, 1, 49, 40, 51, 1, 16, 1, 29, 22, 43], [1, 49, 40, 51, 1, 16, 1, 29, 22, 43, 45], [49, 40, 51, 1, 16, 1, 29, 22, 43, 45, 39], [40, 51, 1, 16, 1, 29, 22, 43, 45, 39, 19], [51, 1, 16, 1, 29, 22, 43, 45, 39, 19, 48], [1, 16, 1, 29, 22, 43, 45, 39, 19, 48, 47], [16, 1, 29, 22, 43, 45, 39, 19, 48, 47, 54], [1, 29, 22, 43, 45, 39, 19, 48, 47, 54, 39], [29, 22, 43, 45, 39, 19, 48, 47, 54, 39, 50], [22, 43, 45, 39, 19, 48, 47, 54, 39, 50, 52], [43, 45, 39, 19, 48, 47, 54, 39, 50, 52, 39], [45, 39, 19, 48, 47, 54, 39, 50, 52, 39, 50], [39, 19, 48, 47, 54, 39, 50, 52, 39, 50, 13], [19, 48, 47, 54, 39, 50, 52, 39, 50, 13, 13], [48, 47, 54, 39, 50, 52, 39, 50, 13, 13, 19], [47, 54, 39, 50, 52, 39, 50, 13, 13, 19, 48], [54, 39, 50, 52, 39, 50, 13, 13, 19, 48, 47], [39, 50, 52, 39, 50, 13, 13, 19, 48, 47, 54], [50, 52, 39, 50, 13, 13, 19, 48, 47, 54, 39], [52, 39, 50, 13, 13, 19, 48, 47, 54, 39, 50], [39, 50, 13, 13, 19, 48, 47, 54, 39, 50, 52], [50, 13, 13, 19, 48, 47, 54, 39, 50, 52, 22], [13, 13, 19, 48, 47, 54, 39, 50, 52, 22, 50], [13, 19, 48, 47, 54, 39, 50, 52, 22, 50, 48], [19, 48, 47, 54, 39, 50, 52, 22, 50, 48, 46], [48, 47, 54, 39, 50, 52, 22, 50, 48, 46, 29], [47, 54, 39, 50, 52, 22, 50, 48, 46, 29, 22], [54, 39, 50, 52, 22, 50, 48, 46, 29, 22, 43], [39, 50, 52, 22, 50, 48, 46, 29, 22, 43, 45], [50, 52, 22, 50, 48, 46, 29, 22, 43, 45, 39], [52, 22, 50, 48, 46, 29, 22, 43, 45, 39, 6], [22, 50, 48, 46, 29, 22, 43, 45, 39, 6, 1], [50, 48, 46, 29, 22, 43, 45, 39, 6, 1, 37], [48, 46, 29, 22, 43, 45, 39, 6, 1, 37, 45], [46, 29, 22, 43, 45, 39, 6, 1, 37, 45, 43], [29, 22, 43, 45, 39, 6, 1, 37, 45, 43, 39], [22, 43, 45, 39, 6, 1, 37, 45, 43, 39, 47], [43, 45, 39, 6, 1, 37, 45, 43, 39, 47, 52], [45, 39, 6, 1, 37, 45, 43, 39, 47, 52, 21], [39, 6, 1, 37, 45, 43, 39, 47, 52, 21, 46], [6, 1, 37, 45, 43, 39, 47, 52, 21, 46, 35], [1, 37, 45, 43, 39, 47, 52, 21, 46, 35, 43], [37, 45, 43, 39, 47, 52, 21, 46, 35, 43, 45], [45, 43, 39, 47, 52, 21, 46, 35, 43, 45, 8], [43, 39, 47, 52, 21, 46, 35, 43, 45, 8, 1], [39, 47, 52, 21, 46, 35, 43, 45, 8, 1, 43], [47, 52, 21, 46, 35, 43, 45, 8, 1, 43, 47], [52, 21, 46, 35, 43, 45, 8, 1, 43, 47, 22], [21, 46, 35, 43, 45, 8, 1, 43, 47, 22, 43], [46, 35, 43, 45, 8, 1, 43, 47, 22, 43, 45], [35, 43, 45, 8, 1, 43, 47, 22, 43, 45, 39], [43, 45, 8, 1, 43, 47, 22, 43, 45, 39, 8], [45, 8, 1, 43, 47, 22, 43, 45, 39, 8, 1], [8, 1, 43, 47, 22, 43, 45, 39, 8, 1, 48], [1, 43, 47, 22, 43, 45, 39, 8, 1, 48, 53], [43, 47, 22, 43, 45, 39, 8, 1, 48, 53, 52], [47, 22, 43, 45, 39, 8, 1, 48, 53, 52, 22], [22, 43, 45, 39, 8, 1, 48, 53, 52, 22, 43], [43, 45, 39, 8, 1, 48, 53, 52, 22, 43, 45], [45, 39, 8, 1, 48, 53, 52, 22, 43, 45, 39], [39, 8, 1, 48, 53, 52, 22, 43, 45, 39, 8], [8, 1, 48, 53, 52, 22, 43, 45, 39, 8, 1], [1, 48, 53, 52, 22, 43, 45, 39, 8, 1, 35], [48, 53, 52, 22, 43, 45, 39, 8, 1, 35, 53], [53, 52, 22, 43, 45, 39, 8, 1, 35, 53, 52], [52, 22, 43, 45, 39, 8, 1, 35, 53, 52, 42], [22, 43, 45, 39, 8, 1, 35, 53, 52, 42, 8], [43, 45, 39, 8, 1, 35, 53, 52, 42, 8, 1], [45, 39, 8, 1, 35, 53, 52, 42, 8, 1, 52], [39, 8, 1, 35, 53, 52, 42, 8, 1, 52, 42], [8, 1, 35, 53, 52, 42, 8, 1, 52, 42, 43], [1, 35, 53, 52, 42, 8, 1, 52, 42, 43, 51], [35, 53, 52, 42, 8, 1, 52, 42, 43, 51, 9], [53, 52, 42, 8, 1, 52, 42, 43, 51, 9, 17], [52, 42, 8, 1, 52, 42, 43, 51, 9, 17, 37], [42, 8, 1, 52, 42, 43, 51, 9, 17, 37, 48], [8, 1, 52, 42, 43, 51, 9, 17, 37, 48, 47], [1, 52, 42, 43, 51, 9, 17, 37, 48, 47, 51], [52, 42, 43, 51, 9, 17, 37, 48, 47, 51, 39], [42, 43, 51, 9, 17, 37, 48, 47, 51, 39, 47], [43, 51, 9, 17, 37, 48, 47, 51, 39, 47, 52], [51, 9, 17, 37, 48, 47, 51, 39, 47, 52, 7], [9, 17, 37, 48, 47, 51, 39, 47, 52, 7, 14], [17, 37, 48, 47, 51, 39, 47, 52, 7, 14, 1], [37, 48, 47, 51, 39, 47, 52, 7, 14, 1, 18], [48, 47, 51, 39, 47, 52, 7, 14, 1, 18, 38], [47, 51, 39, 47, 52, 7, 14, 1, 18, 38, 38], [51, 39, 47, 52, 7, 14, 1, 18, 38, 38, 26], [39, 47, 52, 7, 14, 1, 18, 38, 38, 26, 48], [47, 52, 7, 14, 1, 18, 38, 38, 26, 48, 41], [52, 7, 14, 1, 18, 38, 38, 26, 48, 41, 6], [7, 14, 1, 18, 38, 38, 26, 48, 41, 6, 3], [14, 1, 18, 38, 38, 26, 48, 41, 6, 3, 31], [1, 18, 38, 38, 26, 48, 41, 6, 3, 31, 53], [18, 38, 38, 26, 48, 41, 6, 3, 31, 53, 37], [38, 38, 26, 48, 41, 6, 3, 31, 53, 37, 37], [38, 26, 48, 41, 6, 3, 31, 53, 37, 37, 39], [26, 48, 41, 6, 3, 31, 53, 37, 37, 39, 51], [48, 41, 6, 3, 31, 53, 37, 37, 39, 51, 51], [41, 6, 3, 31, 53, 37, 37, 39, 51, 51, 40], [6, 3, 31, 53, 37, 37, 39, 51, 51, 40, 53], [3, 31, 53, 37, 37, 39, 51, 51, 40, 53, 45], [31, 53, 37, 37, 39, 51, 51, 40, 53, 45, 45], [53, 37, 37, 39, 51, 51, 40, 53, 45, 45, 57], [37, 37, 39, 51, 51, 40, 53, 45, 45, 57, 1], [37, 39, 51, 51, 40, 53, 45, 45, 57, 1, 37], [39, 51, 51, 40, 53, 45, 45, 57, 1, 37, 48], [51, 51, 40, 53, 45, 45, 57, 1, 37, 48, 47], [51, 40, 53, 45, 45, 57, 1, 37, 48, 47, 54], [40, 53, 45, 45, 57, 1, 37, 48, 47, 54, 39], [53, 45, 45, 57, 1, 37, 48, 47, 54, 39, 50], [45, 45, 57, 1, 37, 48, 47, 54, 39, 50, 52], [45, 57, 1, 37, 48, 47, 54, 39, 50, 52, 39], [57, 1, 37, 48, 47, 54, 39, 50, 52, 39, 38], [1, 37, 48, 47, 54, 39, 50, 52, 39, 38, 1], [37, 48, 47, 54, 39, 50, 52, 39, 38, 1, 52], [48, 47, 54, 39, 50, 52, 39, 38, 1, 52, 48], [47, 54, 39, 50, 52, 39, 38, 1, 52, 48, 1], [54, 39, 50, 52, 39, 38, 1, 52, 48, 1, 3], [39, 50, 52, 39, 38, 1, 52, 48, 1, 3, 8], [50, 52, 39, 38, 1, 52, 48, 1, 3, 8, 1], [52, 39, 38, 1, 52, 48, 1, 3, 8, 1, 40], [39, 38, 1, 52, 48, 1, 3, 8, 1, 40, 43], [38, 1, 52, 48, 1, 3, 8, 1, 40, 43, 45], [1, 52, 48, 1, 3, 8, 1, 40, 43, 45, 39], [52, 48, 1, 3, 8, 1, 40, 43, 45, 39, 28], [48, 1, 3, 8, 1, 40, 43, 45, 39, 28, 53], [1, 3, 8, 1, 40, 43, 45, 39, 28, 53, 52], [3, 8, 1, 40, 43, 45, 39, 28, 53, 52, 10], [8, 1, 40, 43, 45, 39, 28, 53, 52, 10, 37], [1, 40, 43, 45, 39, 28, 53, 52, 10, 37, 34], [40, 43, 45, 39, 28, 53, 52, 10, 37, 34, 51], [43, 45, 39, 28, 53, 52, 10, 37, 34, 51, 52], [45, 39, 28, 53, 52, 10, 37, 34, 51, 52, 50], [39, 28, 53, 52, 10, 37, 34, 51, 52, 50, 6], [28, 53, 52, 10, 37, 34, 51, 52, 50, 6, 7], [53, 52, 10, 37, 34, 51, 52, 50, 6, 7, 7], [52, 10, 37, 34, 51, 52, 50, 6, 7, 7, 14], [10, 37, 34, 51, 52, 50, 6, 7, 7, 14, 1], [37, 34, 51, 52, 50, 6, 7, 7, 14, 1, 60], [34, 51, 52, 50, 6, 7, 7, 14, 1, 60, 1], [51, 52, 50, 6, 7, 7, 14, 1, 60, 1, 37], [52, 50, 6, 7, 7, 14, 1, 60, 1, 37, 35], [50, 6, 7, 7, 14, 1, 60, 1, 37, 35, 52], [6, 7, 7, 14, 1, 60, 1, 37, 35, 52, 37], [7, 7, 14, 1, 60, 1, 37, 35, 52, 37, 42], [7, 14, 1, 60, 1, 37, 35, 52, 37, 42, 1], [14, 1, 60, 1, 37, 35, 52, 37, 42, 1, 6], [1, 60, 1, 37, 35, 52, 37, 42, 1, 6, 37], [60, 1, 37, 35, 52, 37, 42, 1, 6, 37, 48], [1, 37, 35, 52, 37, 42, 1, 6, 37, 48, 47], [37, 35, 52, 37, 42, 1, 6, 37, 48, 47, 51], [35, 52, 37, 42, 1, 6, 37, 48, 47, 51, 52], [52, 37, 42, 1, 6, 37, 48, 47, 51, 52, 1], [37, 42, 1, 6, 37, 48, 47, 51, 52, 1, 50], [42, 1, 6, 37, 48, 47, 51, 52, 1, 50, 46], [1, 6, 37, 48, 47, 51, 52, 1, 50, 46, 51], [6, 37, 48, 47, 51, 52, 1, 50, 46, 51, 35], [37, 48, 47, 51, 52, 1, 50, 46, 51, 35, 53], [48, 47, 51, 52, 1, 50, 46, 51, 35, 53, 52], [47, 51, 52, 1, 50, 46, 51, 35, 53, 52, 42], [51, 52, 1, 50, 46, 51, 35, 53, 52, 42, 13], [52, 1, 50, 46, 51, 35, 53, 52, 42, 13, 13], [1, 50, 46, 51, 35, 53, 52, 42, 13, 13, 21], [50, 46, 51, 35, 53, 52, 42, 13, 13, 21, 56], [46, 51, 35, 53, 52, 42, 13, 13, 21, 56, 37], [51, 35, 53, 52, 42, 13, 13, 21, 56, 37, 39], [35, 53, 52, 42, 13, 13, 21, 56, 37, 39, 49], [53, 52, 42, 13, 13, 21, 56, 37, 39, 49, 52], [52, 42, 13, 13, 21, 56, 37, 39, 49, 52, 43], [42, 13, 13, 21, 56, 37, 39, 49, 52, 43, 48], [13, 13, 21, 56, 37, 39, 49, 52, 43, 48, 47], [13, 21, 56, 37, 39, 49, 52, 43, 48, 47, 4], [21, 56, 37, 39, 49, 52, 43, 48, 47, 4, 1], [56, 37, 39, 49, 52, 43, 48, 47, 4, 1, 39], [37, 39, 49, 52, 43, 48, 47, 4, 1, 39, 7], [39, 49, 52, 43, 48, 47, 4, 1, 39, 7, 1], [49, 52, 43, 48, 47, 4, 1, 39, 7, 1, 58], [52, 43, 48, 47, 4, 1, 39, 7, 1, 58, 1], [43, 48, 47, 4, 1, 39, 7, 1, 58, 1, 18], [48, 47, 4, 1, 39, 7, 1, 58, 1, 18, 38], [47, 4, 1, 39, 7, 1, 58, 1, 18, 38, 38], [4, 1, 39, 7, 1, 58, 1, 18, 38, 38, 26], [1, 39, 7, 1, 58, 1, 18, 38, 38, 26, 48], [39, 7, 1, 58, 1, 18, 38, 38, 26, 48, 41], [7, 1, 58, 1, 18, 38, 38, 26, 48, 41, 6], [1, 58, 1, 18, 38, 38, 26, 48, 41, 6, 3], [58, 1, 18, 38, 38, 26, 48, 41, 6, 3, 21], [1, 18, 38, 38, 26, 48, 41, 6, 3, 21, 30], [18, 38, 38, 26, 48, 41, 6, 3, 21, 30, 30], [38, 38, 26, 48, 41, 6, 3, 21, 30, 30, 28], [38, 26, 48, 41, 6, 3, 21, 30, 30, 28, 30], [26, 48, 41, 6, 3, 21, 30, 30, 28, 30, 13], [48, 41, 6, 3, 21, 30, 30, 28, 30, 13, 1], [41, 6, 3, 21, 30, 30, 28, 30, 13, 1, 3], [6, 3, 21, 30, 30, 28, 30, 13, 1, 3, 8], [3, 21, 30, 30, 28, 30, 13, 1, 3, 8, 1], [21, 30, 30, 28, 30, 13, 1, 3, 8, 1, 39], [30, 30, 28, 30, 13, 1, 3, 8, 1, 39, 10], [30, 28, 30, 13, 1, 3, 8, 1, 39, 10, 39], [28, 30, 13, 1, 3, 8, 1, 39, 10, 39, 50], [30, 13, 1, 3, 8, 1, 39, 10, 39, 50, 50], [13, 1, 3, 8, 1, 39, 10, 39, 50, 50, 48], [1, 3, 8, 1, 39, 10, 39, 50, 50, 48, 50], [3, 8, 1, 39, 10, 39, 50, 50, 48, 50, 6], [8, 1, 39, 10, 39, 50, 50, 48, 50, 6, 7], [1, 39, 10, 39, 50, 50, 48, 50, 6, 7, 10], [39, 10, 39, 50, 50, 48, 50, 6, 7, 10, 37], [10, 39, 50, 50, 48, 50, 6, 7, 10, 37, 34], [39, 50, 50, 48, 50, 6, 7, 10, 37, 34, 51], [50, 50, 48, 50, 6, 7, 10, 37, 34, 51, 52], [50, 48, 50, 6, 7, 10, 37, 34, 51, 52, 50], [48, 50, 6, 7, 10, 37, 34, 51, 52, 50, 6], [50, 6, 7, 10, 37, 34, 51, 52, 50, 6, 7], [6, 7, 10, 37, 34, 51, 52, 50, 6, 7, 7], [7, 10, 37, 34, 51, 52, 50, 6, 7, 7, 14], [10, 37, 34, 51, 52, 50, 6, 7, 7, 14, 1], [37, 34, 51, 52, 50, 6, 7, 7, 14, 1, 60], [34, 51, 52, 50, 6, 7, 7, 14, 1, 60, 1], [51, 52, 50, 6, 7, 7, 14, 1, 60, 1, 37], [52, 50, 6, 7, 7, 14, 1, 60, 1, 37, 35], [50, 6, 7, 7, 14, 1, 60, 1, 37, 35, 52], [6, 7, 7, 14, 1, 60, 1, 37, 35, 52, 37], [7, 7, 14, 1, 60, 1, 37, 35, 52, 37, 42], [7, 14, 1, 60, 1, 37, 35, 52, 37, 42, 1], [14, 1, 60, 1, 37, 35, 52, 37, 42, 1, 6], [1, 60, 1, 37, 35, 52, 37, 42, 1, 6, 37], [60, 1, 37, 35, 52, 37, 42, 1, 6, 37, 48], [1, 37, 35, 52, 37, 42, 1, 6, 37, 48, 47], [37, 35, 52, 37, 42, 1, 6, 37, 48, 47, 51], [35, 52, 37, 42, 1, 6, 37, 48, 47, 51, 52], [52, 37, 42, 1, 6, 37, 48, 47, 51, 52, 1], [37, 42, 1, 6, 37, 48, 47, 51, 52, 1, 50], [42, 1, 6, 37, 48, 47, 51, 52, 1, 50, 46], [1, 6, 37, 48, 47, 51, 52, 1, 50, 46, 51], [6, 37, 48, 47, 51, 52, 1, 50, 46, 51, 37], [37, 48, 47, 51, 52, 1, 50, 46, 51, 37, 48], [48, 47, 51, 52, 1, 50, 46, 51, 37, 48, 50], [47, 51, 52, 1, 50, 46, 51, 37, 48, 50, 39], [51, 52, 1, 50, 46, 51, 37, 48, 50, 39, 13], [52, 1, 50, 46, 51, 37, 48, 50, 39, 13, 13], [1, 50, 46, 51, 37, 48, 50, 39, 13, 13, 39], [50, 46, 51, 37, 48, 50, 39, 13, 13, 39, 56], [46, 51, 37, 48, 50, 39, 13, 13, 39, 56, 37], [51, 37, 48, 50, 39, 13, 13, 39, 56, 37, 39], [37, 48, 50, 39, 13, 13, 39, 56, 37, 39, 49], [48, 50, 39, 13, 13, 39, 56, 37, 39, 49, 52], [50, 39, 13, 13, 39, 56, 37, 39, 49, 52, 43], [39, 13, 13, 39, 56, 37, 39, 49, 52, 43, 48], [13, 13, 39, 56, 37, 39, 49, 52, 43, 48, 47], [13, 39, 56, 37, 39, 49, 52, 43, 48, 47, 51], [39, 56, 37, 39, 49, 52, 43, 48, 47, 51, 13], [56, 37, 39, 49, 52, 43, 48, 47, 51, 13, 13], [37, 39, 49, 52, 43, 48, 47, 51, 13, 13, 30], [39, 49, 52, 43, 48, 47, 51, 13, 13, 30, 27], [49, 52, 43, 48, 47, 51, 13, 13, 30, 27, 31], [52, 43, 48, 47, 51, 13, 13, 30, 27, 31, 21], [43, 48, 47, 51, 13, 13, 30, 27, 31, 21, 56], [48, 47, 51, 13, 13, 30, 27, 31, 21, 56, 37], [47, 51, 13, 13, 30, 27, 31, 21, 56, 37, 39], [51, 13, 13, 30, 27, 31, 21, 56, 37, 39, 49], [13, 13, 30, 27, 31, 21, 56, 37, 39, 49, 52], [13, 30, 27, 31, 21, 56, 37, 39, 49, 52, 43], [30, 27, 31, 21, 56, 37, 39, 49, 52, 43, 48], [27, 31, 21, 56, 37, 39, 49, 52, 43, 48, 47], [31, 21, 56, 37, 39, 49, 52, 43, 48, 47, 4], [21, 56, 37, 39, 49, 52, 43, 48, 47, 4, 1], [56, 37, 39, 49, 52, 43, 48, 47, 4, 1, 39], [37, 39, 49, 52, 43, 48, 47, 4, 1, 39, 7], [39, 49, 52, 43, 48, 47, 4, 1, 39, 7, 1], [49, 52, 43, 48, 47, 4, 1, 39, 7, 1, 58], [52, 43, 48, 47, 4, 1, 39, 7, 1, 58, 1], [43, 48, 47, 4, 1, 39, 7, 1, 58, 1, 18], [48, 47, 4, 1, 39, 7, 1, 58, 1, 18, 38], [47, 4, 1, 39, 7, 1, 58, 1, 18, 38, 38], [4, 1, 39, 7, 1, 58, 1, 18, 38, 38, 26], [1, 39, 7, 1, 58, 1, 18, 38, 38, 26, 48], [39, 7, 1, 58, 1, 18, 38, 38, 26, 48, 41], [7, 1, 58, 1, 18, 38, 38, 26, 48, 41, 6], [1, 58, 1, 18, 38, 38, 26, 48, 41, 6, 3], [58, 1, 18, 38, 38, 26, 48, 41, 6, 3, 21], [1, 18, 38, 38, 26, 48, 41, 6, 3, 21, 30], [18, 38, 38, 26, 48, 41, 6, 3, 21, 30, 30], [38, 38, 26, 48, 41, 6, 3, 21, 30, 30, 28], [38, 26, 48, 41, 6, 3, 21, 30, 30, 28, 30], [26, 48, 41, 6, 3, 21, 30, 30, 28, 30, 13], [48, 41, 6, 3, 21, 30, 30, 28, 30, 13, 1], [41, 6, 3, 21, 30, 30, 28, 30, 13, 1, 3], [6, 3, 21, 30, 30, 28, 30, 13, 1, 3, 8], [3, 21, 30, 30, 28, 30, 13, 1, 3, 8, 1], [21, 30, 30, 28, 30, 13, 1, 3, 8, 1, 39], [30, 30, 28, 30, 13, 1, 3, 8, 1, 39, 10], [30, 28, 30, 13, 1, 3, 8, 1, 39, 10, 55], [28, 30, 13, 1, 3, 8, 1, 39, 10, 55, 42], [30, 13, 1, 3, 8, 1, 39, 10, 55, 42, 35], [13, 1, 3, 8, 1, 39, 10, 55, 42, 35, 52], [1, 3, 8, 1, 39, 10, 55, 42, 35, 52, 6], [3, 8, 1, 39, 10, 55, 42, 35, 52, 6, 7], [8, 1, 39, 10, 55, 42, 35, 52, 6, 7, 7], [1, 39, 10, 55, 42, 35, 52, 6, 7, 7, 14], [39, 10, 55, 42, 35, 52, 6, 7, 7, 14, 1], [10, 55, 42, 35, 52, 6, 7, 7, 14, 1, 60], [55, 42, 35, 52, 6, 7, 7, 14, 1, 60, 1], [42, 35, 52, 6, 7, 7, 14, 1, 60, 1, 43], [35, 52, 6, 7, 7, 14, 1, 60, 1, 43, 47], [52, 6, 7, 7, 14, 1, 60, 1, 43, 47, 22], [6, 7, 7, 14, 1, 60, 1, 43, 47, 22, 43], [7, 7, 14, 1, 60, 1, 43, 47, 22, 43, 45], [7, 14, 1, 60, 1, 43, 47, 22, 43, 45, 39], [14, 1, 60, 1, 43, 47, 22, 43, 45, 39, 9], [1, 60, 1, 43, 47, 22, 43, 45, 39, 9, 17], [60, 1, 43, 47, 22, 43, 45, 39, 9, 17, 37], [1, 43, 47, 22, 43, 45, 39, 9, 17, 37, 45], [43, 47, 22, 43, 45, 39, 9, 17, 37, 45, 48], [47, 22, 43, 45, 39, 9, 17, 37, 45, 48, 51], [22, 43, 45, 39, 9, 17, 37, 45, 48, 51, 39], [43, 45, 39, 9, 17, 37, 45, 48, 51, 39, 6], [45, 39, 9, 17, 37, 45, 48, 51, 39, 6, 7], [39, 9, 17, 37, 45, 48, 51, 39, 6, 7, 14], [9, 17, 37, 45, 48, 51, 39, 6, 7, 14, 1], [17, 37, 45, 48, 51, 39, 6, 7, 14, 1, 48], [37, 45, 48, 51, 39, 6, 7, 14, 1, 48, 53], [45, 48, 51, 39, 6, 7, 14, 1, 48, 53, 52], [48, 51, 39, 6, 7, 14, 1, 48, 53, 52, 22], [51, 39, 6, 7, 14, 1, 48, 53, 52, 22, 43], [39, 6, 7, 14, 1, 48, 53, 52, 22, 43, 45], [6, 7, 14, 1, 48, 53, 52, 22, 43, 45, 39], [7, 14, 1, 48, 53, 52, 22, 43, 45, 39, 9], [14, 1, 48, 53, 52, 22, 43, 45, 39, 9, 17], [1, 48, 53, 52, 22, 43, 45, 39, 9, 17, 37], [48, 53, 52, 22, 43, 45, 39, 9, 17, 37, 45], [53, 52, 22, 43, 45, 39, 9, 17, 37, 45, 48], [52, 22, 43, 45, 39, 9, 17, 37, 45, 48, 51], [22, 43, 45, 39, 9, 17, 37, 45, 48, 51, 39], [43, 45, 39, 9, 17, 37, 45, 48, 51, 39, 6], [45, 39, 9, 17, 37, 45, 48, 51, 39, 6, 7], [39, 9, 17, 37, 45, 48, 51, 39, 6, 7, 14], [9, 17, 37, 45, 48, 51, 39, 6, 7, 14, 1], [17, 37, 45, 48, 51, 39, 6, 7, 14, 1, 60]]\n"
          ],
          "name": "stdout"
        }
      ]
    },
    {
      "cell_type": "code",
      "metadata": {
        "id": "rcpQKX3N_QJz",
        "colab_type": "code",
        "colab": {
          "base_uri": "https://localhost:8080/",
          "height": 35
        },
        "outputId": "eae054ab-8570-4943-d77c-6f5c56f1920c"
      },
      "source": [
        "# vocabulary size\n",
        "vocab_size = len(mapping)\n",
        "print('Vocabulary Size: %d' % vocab_size)\n",
        "\n",
        "# separate into input and output\n",
        "sequences = array(sequences)\n",
        "X, y = sequences[:,:-1], sequences[:,-1]  # 마지막 글자를 제외한 모든 행렬과  마지막 글자만 가지고 있는 모든 행렬로 나눕니다.\n",
        "sequences = [to_categorical(x, num_classes=vocab_size) for x in X]\n",
        "X = array(sequences)\n",
        "y = to_categorical(y, num_classes=vocab_size)   # X와 y에 대하여 원핫 인코딩 해줍니다."
      ],
      "execution_count": 7,
      "outputs": [
        {
          "output_type": "stream",
          "text": [
            "Vocabulary Size: 61\n"
          ],
          "name": "stdout"
        }
      ]
    },
    {
      "cell_type": "code",
      "metadata": {
        "id": "Y3ED5jztAhdT",
        "colab_type": "code",
        "colab": {
          "base_uri": "https://localhost:8080/",
          "height": 1000
        },
        "outputId": "57a52323-e3ce-4a77-f8d9-5c3f0b7d0d64"
      },
      "source": [
        "print(X)\n",
        "print(y)"
      ],
      "execution_count": 8,
      "outputs": [
        {
          "output_type": "stream",
          "text": [
            "[[[0. 0. 0. ... 0. 0. 0.]\n",
            "  [0. 0. 0. ... 0. 0. 0.]\n",
            "  [0. 0. 0. ... 0. 0. 0.]\n",
            "  ...\n",
            "  [0. 0. 0. ... 0. 0. 0.]\n",
            "  [0. 0. 0. ... 0. 0. 0.]\n",
            "  [0. 0. 0. ... 0. 0. 0.]]\n",
            "\n",
            " [[0. 0. 0. ... 0. 0. 0.]\n",
            "  [0. 0. 0. ... 0. 0. 0.]\n",
            "  [0. 0. 0. ... 0. 0. 0.]\n",
            "  ...\n",
            "  [0. 0. 0. ... 0. 0. 0.]\n",
            "  [0. 0. 0. ... 0. 0. 0.]\n",
            "  [0. 0. 0. ... 0. 0. 0.]]\n",
            "\n",
            " [[0. 0. 0. ... 0. 0. 0.]\n",
            "  [0. 0. 0. ... 0. 0. 0.]\n",
            "  [0. 1. 0. ... 0. 0. 0.]\n",
            "  ...\n",
            "  [0. 0. 0. ... 0. 0. 0.]\n",
            "  [0. 0. 0. ... 0. 0. 0.]\n",
            "  [0. 0. 0. ... 0. 0. 0.]]\n",
            "\n",
            " ...\n",
            "\n",
            " [[0. 0. 0. ... 0. 0. 0.]\n",
            "  [0. 0. 0. ... 0. 0. 0.]\n",
            "  [0. 0. 0. ... 0. 0. 0.]\n",
            "  ...\n",
            "  [0. 0. 0. ... 0. 0. 0.]\n",
            "  [0. 0. 0. ... 0. 0. 0.]\n",
            "  [0. 0. 0. ... 0. 0. 0.]]\n",
            "\n",
            " [[0. 0. 0. ... 0. 0. 0.]\n",
            "  [0. 0. 0. ... 0. 0. 0.]\n",
            "  [0. 0. 0. ... 0. 0. 0.]\n",
            "  ...\n",
            "  [0. 0. 0. ... 0. 0. 0.]\n",
            "  [0. 0. 0. ... 0. 0. 0.]\n",
            "  [0. 0. 0. ... 0. 0. 0.]]\n",
            "\n",
            " [[0. 0. 0. ... 0. 0. 0.]\n",
            "  [0. 0. 0. ... 0. 0. 0.]\n",
            "  [0. 0. 0. ... 0. 0. 0.]\n",
            "  ...\n",
            "  [0. 0. 0. ... 0. 0. 0.]\n",
            "  [0. 0. 0. ... 0. 0. 0.]\n",
            "  [0. 1. 0. ... 0. 0. 0.]]]\n",
            "[[0. 0. 0. ... 0. 0. 0.]\n",
            " [0. 0. 0. ... 0. 0. 0.]\n",
            " [0. 0. 0. ... 0. 0. 0.]\n",
            " ...\n",
            " [0. 0. 0. ... 0. 0. 0.]\n",
            " [0. 1. 0. ... 0. 0. 0.]\n",
            " [0. 0. 0. ... 0. 0. 1.]]\n"
          ],
          "name": "stdout"
        }
      ]
    },
    {
      "cell_type": "code",
      "metadata": {
        "id": "YSpjbeDJ_IH3",
        "colab_type": "code",
        "colab": {}
      },
      "source": [
        "# define model\n",
        "model = Sequential()\n",
        "model.add(LSTM(75, input_shape=(X.shape[1], X.shape[2])))   # LSTM 레이어에 X를 input으로 넣어줍니다.\n",
        "model.add(Dense(vocab_size, activation='softmax'))    # 총 char 들의 사이즈 만큼이 클래스(아웃풋)이 됩니다.\n",
        "print(model.summary())\n",
        "# compile model\n",
        "model.compile(loss='categorical_crossentropy', optimizer='adam', metrics=['accuracy'])\n",
        "# fit model\n",
        "model.fit(X, y, epochs=100, verbose=2)\n",
        "\n",
        "# save the model to file\n",
        "model.save('model.h5')\n",
        "# save the mapping\n",
        "dump(mapping, open('mapping.pkl', 'wb'))"
      ],
      "execution_count": 0,
      "outputs": []
    },
    {
      "cell_type": "code",
      "metadata": {
        "id": "DSMEy3DkPlUV",
        "colab_type": "code",
        "colab": {
          "base_uri": "https://localhost:8080/",
          "height": 71
        },
        "outputId": "422e7016-54d3-4049-8fc7-d72bd47115d6"
      },
      "source": [
        "from pickle import load\n",
        "from keras.models import load_model\n",
        "from keras.utils import to_categorical\n",
        "from keras.preprocessing.sequence import pad_sequences\n",
        "\n",
        "# generate a sequence of characters with a language model\n",
        "def generate_seq(model, mapping, seq_length, seed_text, n_chars):\n",
        "\tin_text = seed_text\n",
        "\t# generate a fixed number of characters\n",
        "\tfor _ in range(n_chars):\n",
        "\t\t# encode the characters as integers\n",
        "\t\tencoded = [mapping[char] for char in in_text]  # 모든 seed 텍스트를 정수로 매핑\n",
        "\t\t# truncate sequences to a fixed length\n",
        "\t\tencoded = pad_sequences([encoded], maxlen=seq_length, truncating='pre')  # 동일한 길이로 패딩\n",
        "\t\t# one hot encode\n",
        "\t\tencoded = to_categorical(encoded, num_classes=len(mapping))\n",
        "\t\tencoded = encoded.reshape(-1, encoded.shape[1], encoded.shape[2])\n",
        "\t\t# predict character\n",
        "\t\tyhat = model.predict_classes(encoded, verbose=0)   # predict하여 yhat에 저장\n",
        "\t\t# reverse map integer to character\n",
        "\t\tout_char = ''\n",
        "\t\tfor char, index in mapping.items():\n",
        "\t\t\tif index == yhat:  # 일치하는 인덱스 발견하면\n",
        "\t\t\t\tout_char = char   # char로 변환\n",
        "\t\t\t\tbreak\n",
        "\t\t# append to input\n",
        "\t\tin_text += char  # 결과적으로 in_text는 주어진 seed 문자열에서의 각 char마다 predict한 것들로 채워진 문자열이 된다.\n",
        "\treturn in_text\n",
        "\n",
        "# load the model\n",
        "model = load_model('model.h5')\n",
        "# load the mapping\n",
        "mapping = load(open('mapping.pkl', 'rb'))\n",
        "\n",
        "# test start of rhyme\n",
        "print(generate_seq(model, mapping, 10, 'void MainWindow:', 20))   # seed 문자열을 주고 모델이 predict 하게 함\n",
        "# test mid-line\n",
        "print(generate_seq(model, mapping, 10, 'generate out', 20))\n",
        "# test not in original\n",
        "print(generate_seq(model, mapping, 10, 'hello worl', 20))  # 원본 소스에 존재하지 않았던 문자열은 올바른 예측을 할 수 없음"
      ],
      "execution_count": 5,
      "outputs": [
        {
          "output_type": "stream",
          "text": [
            "void MainWindow::ConvertFromPFile( c\n",
            "generate output filename auto po\n",
            "hello worlCettrerer, fioste::e\n"
          ],
          "name": "stdout"
        }
      ]
    },
    {
      "cell_type": "code",
      "metadata": {
        "id": "VHBISSU-7ybe",
        "colab_type": "code",
        "colab": {
          "base_uri": "https://localhost:8080/",
          "height": 55
        },
        "outputId": "b49ea113-9379-4f28-acaa-e8dddf9414b0"
      },
      "source": [
        "print(generate_seq(model, mapping, 10, 'void MainWindow:', 200))  # 원본 소스에 존재했던 문자열은 정확하게 예측함"
      ],
      "execution_count": 6,
      "outputs": [
        {
          "output_type": "stream",
          "text": [
            "void MainWindow::ConvertFromPFile( clientEmail) { // add trusted certificates using HttpHelpers of RMS and Auth SDKs addCertificates using HttpHelpers of RMS and Auth SDKs addCertificates using HttpHelpers of RMS and\n"
          ],
          "name": "stdout"
        }
      ]
    },
    {
      "cell_type": "markdown",
      "metadata": {
        "id": "TpPLklcnFhda",
        "colab_type": "text"
      },
      "source": [
        "원래는 indent까지 고려해야 하는데, 이는 위의 코드에서 split을 통해 개행을 제거하여 tokenize 하는 부분을 수정하면 될 것 같습니다."
      ]
    }
  ]
}